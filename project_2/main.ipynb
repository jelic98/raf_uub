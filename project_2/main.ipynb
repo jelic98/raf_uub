{
  "nbformat": 4,
  "nbformat_minor": 0,
  "metadata": {
    "colab": {
      "name": "UUB - Projekat 2.ipynb",
      "provenance": [],
      "collapsed_sections": []
    },
    "kernelspec": {
      "name": "python3",
      "display_name": "Python 3"
    }
  },
  "cells": [
    {
      "cell_type": "markdown",
      "metadata": {
        "id": "rrLOqCd5Al2m",
        "colab_type": "text"
      },
      "source": [
        "# Projekat 2 - 40 bodova\n",
        "\n",
        "Dati su FASTQ fajlovi koji su rezultat sekvenciranja dela exoma koji se nalazi na hromozomu 11 (podaci su uzeti iz uzoraka 1000 Genomes projekta).\n",
        "(tabela sa imenom uzoraka koji je dodeljen svakom studentu je data u fajlu Lista zadataka 2 2020).\n",
        "\n",
        "### Rok za predaju je 5. Jun.\n",
        "Do datog roka je potrebno poslati rezultate emailom, na adresu grakocevic@raf.rs.\n",
        "\n",
        "Kao rezultat projekta se potrebno je predati:  \n",
        "1. Kod kojim su generisani rezultati (ipynb ili python skripta)\n",
        "2. Kraći izveštaj sa tekstualnim odgovorima na pitanja i grafikonima\n",
        "\n",
        "Projekat je moguće raditi pojedinačno ili u paru. **Ukoliko se projekat radi u paru, svaki student predaje i brani projekat posebno, uz napomenu da je projekat urađen u paru; pri tome svaki student treba da obradi podatke iz eksperimenta koji mu dodeljen, a rad u paru se odnosi na programski kod i šablon za tekstualni izveštaj.**\n",
        "\n",
        "\n",
        "\n",
        "### Pitanja:\n",
        "\n",
        "1. [5 boda] Izvršiti kontrolu kvaliteta FASTQ fajlova alatom FastQC. Priložiti izvrštaj i diskutovati rezultate (da li je neki od kriterijuma koje analizira FastQC označen kao problematičan, i šta taj kriterijum znači?)\n",
        " \n",
        "2. [5 bodova] Mapirati sekvencirane readove na referentni genom hg38 upotrebom alata BWA Mem. Upotrebom python biblioteke pysam odrediti sledeće:\n",
        " 2a. Koliko je readova uspešno mapirano?\n",
        " 2b. Koliko je parova readova mapirano tako da su oba para mapirana?\n",
        " 2c. Nacrtati histogram dužina sekvenciranih fragmenata (*template_length*). \n",
        "   \n",
        "3. [8 bodova] Izvršiti obradu dobijenog BAM fajla prema GATK protokolu (Markiranje Duplikata, rekalibracija kvaliteta baza)\n",
        " 3a. Koliki su procenati PCR i optičkih duplikata?\n",
        "\n",
        "4. [7 bodova] Identifikovati mutacije upotrebom alata Haplotype Caller i filtirtati mutacije predefinisanim filterima (hard filtering) prema Broad preporukama (kao što je rađeno na vežbama).\n",
        " 4a. Koliko je ukupno mutacija identifikovano, koliko od njih su SNP-ovi, a koliko INDEL-i?\n",
        " 4b. Koliko mutacija prolazi, a koliko ne prolazi kriterijume filtriranja.\n",
        " 4c. Izračunati Ti/Tv odnos pre i posle filtriranja.\n",
        "\n",
        "5. [5 bodova] Anotirati mutacije alatom Funcotator\n",
        " 5a. Izbrojati različite vrednosti ClinVar značajnosti (anotacija *ClinVar_VCF_CLNSIG*, koliko mutacija je označeno kao *Benign*, *Likely_benign*, itd.)-.\n",
        "\n",
        "5. [10 bodova] Svi uzorici sadrže određenu količinu kontaminacije DNK materijalom bakterijskog ili virusnog porekla. Većina ovakvih readova se neće mapirati na ljudski genom. Izvući readove koji nisu mapirani u procesu mapiranja, asemblovati ih alatom abyss, i identifikovati organizam od kojeg potiče najduži skafold upotrebom alata Blast."
      ]
    },
    {
      "cell_type": "markdown",
      "metadata": {
        "id": "3Hvlg1a0YOZq",
        "colab_type": "text"
      },
      "source": [
        "Mount Google Drive"
      ]
    },
    {
      "cell_type": "code",
      "metadata": {
        "id": "po16wM5ZKb_q",
        "colab_type": "code",
        "colab": {}
      },
      "source": [
        "from google.colab import drive\n",
        "drive.mount('/content/drive')"
      ],
      "execution_count": 0,
      "outputs": []
    },
    {
      "cell_type": "markdown",
      "metadata": {
        "id": "oHBc9mGiKb86",
        "colab_type": "text"
      },
      "source": [
        "Define file and directory aliases"
      ]
    },
    {
      "cell_type": "code",
      "metadata": {
        "id": "Z1hETEuRKhpD",
        "colab_type": "code",
        "colab": {}
      },
      "source": [
        "root_dir = '/content/'\n",
        "tools_dir = root_dir + 'tools/'\n",
        "func_dir = root_dir + 'funcotator_dataSources.v1.6.20190124g/'\n",
        "home_dir = root_dir + 'drive/My\\ Drive/Colab\\ Notebooks/UUB/'\n",
        "bwa_dir = tools_dir + 'bwa/'\n",
        "data_dir = home_dir + 'data/'\n",
        "\n",
        "sample_file_1 = 'data/sample_9.pe1'\n",
        "sample_file_2 = 'data/sample_9.pe2'\n",
        "\n",
        "map_file = 'data/sample_9.map'\n",
        "unmap_file = root_dir + 'sample_9.unmap.bam'\n",
        "\n",
        "genome_file = 'data/Homo_sapiens_assembly38.fasta'\n",
        "dbsnp_file = 'data/Homo_sapiens_assembly38.dbsnp138.vcf'"
      ],
      "execution_count": 0,
      "outputs": []
    },
    {
      "cell_type": "markdown",
      "metadata": {
        "id": "a9-cvNvKKy1A",
        "colab_type": "text"
      },
      "source": [
        "Define command aliases"
      ]
    },
    {
      "cell_type": "code",
      "metadata": {
        "id": "CP2sUTDmKyRv",
        "colab_type": "code",
        "colab": {}
      },
      "source": [
        "fastqc = tools_dir + 'FastQC/fastqc'\n",
        "bwa = bwa_dir + 'bwa'\n",
        "picard = 'java -jar ' + tools_dir + 'picard.jar'\n",
        "gatk = 'java -jar ' + tools_dir + 'gatk-4.1.4.1/gatk-package-4.1.4.1-local.jar'"
      ],
      "execution_count": 0,
      "outputs": []
    },
    {
      "cell_type": "markdown",
      "metadata": {
        "id": "4E0SxM7k0EVp",
        "colab_type": "text"
      },
      "source": [
        "Setup environment"
      ]
    },
    {
      "cell_type": "code",
      "metadata": {
        "id": "pt80wwi5ZTUM",
        "colab_type": "code",
        "colab": {}
      },
      "source": [
        "!mkdir -p {tools_dir}\n",
        "%cd {home_dir}"
      ],
      "execution_count": 0,
      "outputs": []
    },
    {
      "cell_type": "markdown",
      "metadata": {
        "id": "gasau7AdYUSh",
        "colab_type": "text"
      },
      "source": [
        "Unzip FASTQ archive if needed"
      ]
    },
    {
      "cell_type": "code",
      "metadata": {
        "id": "Ldr7djjYYVHJ",
        "colab_type": "code",
        "colab": {}
      },
      "source": [
        "!gunzip {sample_file_1}.fq.gz {sample_file_2}.fq.gz"
      ],
      "execution_count": 0,
      "outputs": []
    },
    {
      "cell_type": "markdown",
      "metadata": {
        "id": "akxSXwCvtmzO",
        "colab_type": "text"
      },
      "source": [
        "Install FastQC"
      ]
    },
    {
      "cell_type": "code",
      "metadata": {
        "id": "z86OgOSitYo_",
        "colab_type": "code",
        "colab": {}
      },
      "source": [
        "!wget -P {tools_dir} https://www.bioinformatics.babraham.ac.uk/projects/fastqc/fastqc_v0.11.9.zip\n",
        "!unzip {tools_dir}fastqc_v0.11.9.zip -d {tools_dir}\n",
        "!rm {tools_dir}fastqc_v0.11.9.zip\n",
        "!chmod 755 {fastqc}"
      ],
      "execution_count": 0,
      "outputs": []
    },
    {
      "cell_type": "markdown",
      "metadata": {
        "id": "f-OEElhqzVO5",
        "colab_type": "text"
      },
      "source": [
        "Install BWA"
      ]
    },
    {
      "cell_type": "code",
      "metadata": {
        "id": "f85aixeAzXwQ",
        "colab_type": "code",
        "colab": {}
      },
      "source": [
        "!git clone https://github.com/lh3/bwa.git {bwa_dir}\n",
        "!cd {bwa_dir} && make"
      ],
      "execution_count": 0,
      "outputs": []
    },
    {
      "cell_type": "markdown",
      "metadata": {
        "id": "u4EolXYezfG0",
        "colab_type": "text"
      },
      "source": [
        "Install SAMtools"
      ]
    },
    {
      "cell_type": "code",
      "metadata": {
        "id": "Ko3mH2yhzdlr",
        "colab_type": "code",
        "colab": {}
      },
      "source": [
        "!apt-get install samtools"
      ],
      "execution_count": 0,
      "outputs": []
    },
    {
      "cell_type": "markdown",
      "metadata": {
        "id": "pH8HZI-1JVXW",
        "colab_type": "text"
      },
      "source": [
        "Install GATK"
      ]
    },
    {
      "cell_type": "code",
      "metadata": {
        "id": "tJOD3EJBJUi0",
        "colab_type": "code",
        "colab": {}
      },
      "source": [
        "!wget -O {tools_dir}gatk-4.1.4.1.zip 'https://github.com/broadinstitute/gatk/releases/download/4.1.4.1/gatk-4.1.4.1.zip'\n",
        "!unzip {tools_dir}gatk-4.1.4.1.zip -d {tools_dir}\n",
        "!R -e 'install.packages(c(\"gplots\", \"gsalib\"))'"
      ],
      "execution_count": 0,
      "outputs": []
    },
    {
      "cell_type": "markdown",
      "metadata": {
        "id": "Uskk1XvzJImf",
        "colab_type": "text"
      },
      "source": [
        "Install Picard"
      ]
    },
    {
      "cell_type": "code",
      "metadata": {
        "id": "J1kTPj-oJHFs",
        "colab_type": "code",
        "colab": {}
      },
      "source": [
        "!wget -P {tools_dir} https://github.com/broadinstitute/picard/releases/download/2.21.6/picard.jar"
      ],
      "execution_count": 0,
      "outputs": []
    },
    {
      "cell_type": "markdown",
      "metadata": {
        "id": "6MYTvPTxqNGM",
        "colab_type": "text"
      },
      "source": [
        "Install ABySS"
      ]
    },
    {
      "cell_type": "code",
      "metadata": {
        "id": "KUPIpsYEqGR3",
        "colab_type": "code",
        "colab": {}
      },
      "source": [
        "!apt-get install abyss"
      ],
      "execution_count": 0,
      "outputs": []
    },
    {
      "cell_type": "markdown",
      "metadata": {
        "id": "w4pmHL3p2I-g",
        "colab_type": "text"
      },
      "source": [
        "Download hg38 assembly"
      ]
    },
    {
      "cell_type": "code",
      "metadata": {
        "id": "_Sllx1DH8K25",
        "colab_type": "code",
        "colab": {}
      },
      "source": [
        "!gsutil cp gs://genomics-public-data/resources/broad/hg38/v0/Homo_sapiens_assembly38.fasta {data_dir}\n",
        "!gsutil cp gs://genomics-public-data/resources/broad/hg38/v0/Homo_sapiens_assembly38.fasta.fai {data_dir}\n",
        "!gsutil cp gs://genomics-public-data/resources/broad/hg38/v0/Homo_sapiens_assembly38.dict {data_dir}"
      ],
      "execution_count": 0,
      "outputs": []
    },
    {
      "cell_type": "markdown",
      "metadata": {
        "id": "OQ2I0MnLN1Ce",
        "colab_type": "text"
      },
      "source": [
        "Download dbSNP"
      ]
    },
    {
      "cell_type": "code",
      "metadata": {
        "id": "uZnf64gFN0Xe",
        "colab_type": "code",
        "colab": {}
      },
      "source": [
        "!gsutil cp gs://genomics-public-data/resources/broad/hg38/v0/Homo_sapiens_assembly38.dbsnp138.vcf data\n",
        "!gsutil cp gs://genomics-public-data/resources/broad/hg38/v0/Homo_sapiens_assembly38.dbsnp138.vcf.idx data"
      ],
      "execution_count": 0,
      "outputs": []
    },
    {
      "cell_type": "markdown",
      "metadata": {
        "id": "xRHpFn_NaIC9",
        "colab_type": "text"
      },
      "source": [
        "Install PySAM library"
      ]
    },
    {
      "cell_type": "code",
      "metadata": {
        "id": "qMCt6ROVaHc9",
        "colab_type": "code",
        "colab": {}
      },
      "source": [
        "!pip install pysam"
      ],
      "execution_count": 0,
      "outputs": []
    },
    {
      "cell_type": "markdown",
      "metadata": {
        "id": "KKAsIE8vYbWP",
        "colab_type": "text"
      },
      "source": [
        "Import required libraries"
      ]
    },
    {
      "cell_type": "code",
      "metadata": {
        "id": "zFonIUPcYdSm",
        "colab_type": "code",
        "colab": {}
      },
      "source": [
        "import math\n",
        "import pysam\n",
        "import matplotlib.pyplot as plt"
      ],
      "execution_count": 0,
      "outputs": []
    },
    {
      "cell_type": "markdown",
      "metadata": {
        "id": "Y4wjVGrK61Xu",
        "colab_type": "text"
      },
      "source": [
        "Run quality control"
      ]
    },
    {
      "cell_type": "code",
      "metadata": {
        "id": "KgAnd-v1wuqM",
        "colab_type": "code",
        "colab": {}
      },
      "source": [
        "!{fastqc} {sample_file_1}.fq {sample_file_2}.fq"
      ],
      "execution_count": 0,
      "outputs": []
    },
    {
      "cell_type": "markdown",
      "metadata": {
        "id": "oyB-uSoz702-",
        "colab_type": "text"
      },
      "source": [
        "Create index files"
      ]
    },
    {
      "cell_type": "code",
      "metadata": {
        "id": "YySAFNsP70Co",
        "colab_type": "code",
        "colab": {}
      },
      "source": [
        "!{bwa} index {genome_file}"
      ],
      "execution_count": 0,
      "outputs": []
    },
    {
      "cell_type": "markdown",
      "metadata": {
        "id": "T5zruZpR64iJ",
        "colab_type": "text"
      },
      "source": [
        "Run sequance mapping on hg38 assembly"
      ]
    },
    {
      "cell_type": "code",
      "metadata": {
        "id": "iPnoyoqo1wu1",
        "colab_type": "code",
        "colab": {}
      },
      "source": [
        "!{bwa} mem {genome_file} {sample_file_1}.fq {sample_file_2}.fq > {map_file}.sam"
      ],
      "execution_count": 0,
      "outputs": []
    },
    {
      "cell_type": "markdown",
      "metadata": {
        "id": "zYOXi2AezyxR",
        "colab_type": "text"
      },
      "source": [
        "Sort and index mapping output file"
      ]
    },
    {
      "cell_type": "code",
      "metadata": {
        "id": "612uHlCm7Z30",
        "colab_type": "code",
        "colab": {}
      },
      "source": [
        "!samtools view -b -o {map_file}.bam {map_file}.sam\n",
        "!samtools sort -o {map_file}.sorted.bam {map_file}.bam\n",
        "!samtools index {map_file}.sorted.bam"
      ],
      "execution_count": 0,
      "outputs": []
    },
    {
      "cell_type": "markdown",
      "metadata": {
        "id": "Mr15jg9Oz7AA",
        "colab_type": "text"
      },
      "source": [
        "Count mapped reads and pairs"
      ]
    },
    {
      "cell_type": "code",
      "metadata": {
        "id": "V8HSRNlU_9mJ",
        "colab_type": "code",
        "colab": {}
      },
      "source": [
        "bam_fragments = pysam.AlignmentFile(map_file + '.sorted.bam', 'rb')\n",
        "fragments = list(bam_fragments.fetch(until_eof=True))\n",
        "\n",
        "mapped_reads = bam_fragments.mapped\n",
        "mapped_pairs = sum([len(f.get_aligned_pairs(matches_only=True)) for f in fragments])\n",
        "\n",
        "print('Mapped reads={}'.format(mapped_reads))\n",
        "print('Mapped pairs={}'.format(mapped_pairs))"
      ],
      "execution_count": 0,
      "outputs": []
    },
    {
      "cell_type": "markdown",
      "metadata": {
        "id": "rB23tWs73Rju",
        "colab_type": "text"
      },
      "source": [
        "Show read template lengths histogram"
      ]
    },
    {
      "cell_type": "code",
      "metadata": {
        "id": "6Eve_wxW3Q4t",
        "colab_type": "code",
        "outputId": "497defaf-a2ab-4ec2-dfbd-8234a68b59a3",
        "colab": {
          "base_uri": "https://localhost:8080/",
          "height": 289
        }
      },
      "source": [
        "frag_lengths = [f.template_length for f in fragments]\n",
        "\n",
        "plt.hist(frag_lengths)\n",
        "plt.show()"
      ],
      "execution_count": 0,
      "outputs": [
        {
          "output_type": "display_data",
          "data": {
            "image/png": "[encoded data removed]",
            "text/plain": [
              "<Figure size 432x288 with 1 Axes>"
            ]
          },
          "metadata": {
            "tags": [],
            "needs_background": "light"
          }
        }
      ]
    },
    {
      "cell_type": "markdown",
      "metadata": {
        "id": "o9YA-AP8bQjy",
        "colab_type": "text"
      },
      "source": [
        "Run GATK pipeline (duplicate reads marking)"
      ]
    },
    {
      "cell_type": "code",
      "metadata": {
        "id": "QG2w9FbIJeGR",
        "colab_type": "code",
        "colab": {}
      },
      "source": [
        "!{picard} MarkDuplicates I={map_file}.sorted.bam O={map_file}.dup.bam M={map_file}.dup.txt"
      ],
      "execution_count": 0,
      "outputs": []
    },
    {
      "cell_type": "markdown",
      "metadata": {
        "id": "XUZWQxjRbYRn",
        "colab_type": "text"
      },
      "source": [
        "Count duplicate reads"
      ]
    },
    {
      "cell_type": "code",
      "metadata": {
        "id": "_C2swY0y3OYD",
        "colab_type": "code",
        "colab": {}
      },
      "source": [
        "dup = pysam.AlignmentFile(map_file + '.dup.bam')\n",
        "dup_len = len([x for x in dup if x.is_duplicate])\n",
        "\n",
        "print('Duplicate reads={}'.format(dup_len))"
      ],
      "execution_count": 0,
      "outputs": []
    },
    {
      "cell_type": "markdown",
      "metadata": {
        "id": "y6TROSGabhSL",
        "colab_type": "text"
      },
      "source": [
        "Run GATK pipeline (quality recalibration)"
      ]
    },
    {
      "cell_type": "code",
      "metadata": {
        "id": "_V_IzOf3Boky",
        "colab_type": "code",
        "colab": {}
      },
      "source": [
        "!{picard} AddOrReplaceReadGroups I={map_file}.dup.bam O={map_file}.gr.dup.bam RGID=4 RGLB=lib1 RGPL=illumina RGPU=unit1 RGSM=20\n",
        "!{gatk} BaseRecalibrator -I {map_file}.gr.dup.bam --known-sites {dbsnp_file} -O {map_file}.cal.tbl --reference {genome_file}\n",
        "!{gatk} ApplyBQSR -I {map_file}.gr.dup.bam -bqsr {map_file}.cal.tbl -O {map_file}.cal.bam\n",
        "!{gatk} BaseRecalibrator -I {map_file}.cal.bam --known-sites {dbsnp_file} -O {map_file}.post.cal.tbl --reference {genome_file}\n",
        "!{gatk} AnalyzeCovariates -before {map_file}.cal.tbl -after {map_file}.post.cal.tbl -plots {map_file}.cmp.pdf"
      ],
      "execution_count": 0,
      "outputs": []
    },
    {
      "cell_type": "markdown",
      "metadata": {
        "id": "1vqAjU_lb2hA",
        "colab_type": "text"
      },
      "source": [
        "Identify mutations using dbSNP"
      ]
    },
    {
      "cell_type": "code",
      "metadata": {
        "id": "taJCgl4KGOf8",
        "colab_type": "code",
        "colab": {}
      },
      "source": [
        "!{gatk} HaplotypeCaller --input {map_file}.cal.bam --output {map_file}.vcf --reference {genome_file} --dbsnp {dbsnp_file} -L chr11"
      ],
      "execution_count": 0,
      "outputs": []
    },
    {
      "cell_type": "markdown",
      "metadata": {
        "id": "mlgLNnC2adZE",
        "colab_type": "text"
      },
      "source": [
        "Define mutation filtering helper functions"
      ]
    },
    {
      "cell_type": "code",
      "metadata": {
        "id": "U4ro5UbJLsSw",
        "colab_type": "code",
        "colab": {}
      },
      "source": [
        "def is_snp(variant):\n",
        "    return len(variant.ref) == 1 and len(variant.alts[0]) == 1\n",
        "\n",
        "def is_transitions(variant):\n",
        "    allels = set((variant.ref, variant.alts[0]))\n",
        "    return allels == {'A', 'G'} or allels == {'C', 'T'}\n",
        "\n",
        "def get_titv_ratio(variants):\n",
        "    ti = sum(1 for v in variants if is_snp(v) and is_transitions(v))\n",
        "    tv = sum(1 for v in variants if is_snp(v) and not is_transitions(v))\n",
        "    return ti / tv\n",
        "\n",
        "def is_filtered(variant):\n",
        "    return 'PASS' not in variant.filter"
      ],
      "execution_count": 0,
      "outputs": []
    },
    {
      "cell_type": "markdown",
      "metadata": {
        "id": "wdcWO0pQanpc",
        "colab_type": "text"
      },
      "source": [
        "Count SNP/INDEL mutations and calculate TiTv ratio before filtering"
      ]
    },
    {
      "cell_type": "code",
      "metadata": {
        "id": "3dJGsSjKHt8Y",
        "colab_type": "code",
        "colab": {}
      },
      "source": [
        "vcf_variants = pysam.VariantFile(map_file + '.vcf')\n",
        "variants = list(vcf_variants.fetch())\n",
        "\n",
        "snp_count = sum(1 for v in variants if is_snp(v))\n",
        "indel_count = len(variants) - snp_count\n",
        "\n",
        "print('SNP={} INDEL={}'.format(snp_count, indel_count))\n",
        "print('Ti/Tv before filtering={}'.format(get_titv_ratio(variants)))"
      ],
      "execution_count": 0,
      "outputs": []
    },
    {
      "cell_type": "markdown",
      "metadata": {
        "id": "ZL82rjNZlvlU",
        "colab_type": "text"
      },
      "source": [
        "Perform hard filtering by Broad Institute recommendations"
      ]
    },
    {
      "cell_type": "code",
      "metadata": {
        "id": "qeMpGDwPNaqs",
        "colab_type": "code",
        "colab": {}
      },
      "source": [
        "snp_f = 'QD < 2.0 || FS > 60.0 || MQ < 40.0 || MQRankSum < -12.5 || ReadPosRankSum < -8.0'\n",
        "indel_f = 'QD < 2.0 || FS > 200.0 || ReadPosRankSum < -20.0'\n",
        "\n",
        "!{gatk} SelectVariants -R {genome_file} -V {map_file}.vcf -O {map_file}.snp.vcf --select-type-to-include SNP\n",
        "!{gatk} VariantFiltration -R {genome_file} -V {map_file}.snp.vcf -O {map_file}.snp.fil.vcf -filter '{snp_f}' --filter-name 'snp'\n",
        "!{gatk} SelectVariants -R {genome_file} -V {map_file}.vcf -O {map_file}.ind.vcf --select-type-to-include INDEL\n",
        "!{gatk} VariantFiltration -R {genome_file} -V {map_file}.ind.vcf -O {map_file}.ind.fil.vcf -filter '{indel_f}' --filter-name 'indel'\n",
        "!{gatk} MergeVcfs -I {map_file}.snp.fil.vcf -I {map_file}.ind.fil.vcf -O {map_file}.fil.vcf"
      ],
      "execution_count": 0,
      "outputs": []
    },
    {
      "cell_type": "markdown",
      "metadata": {
        "id": "CpHhyrKia7-G",
        "colab_type": "text"
      },
      "source": [
        "Calculate TiTv ratio after filtering"
      ]
    },
    {
      "cell_type": "code",
      "metadata": {
        "id": "2qqtw0BYLtZI",
        "colab_type": "code",
        "colab": {}
      },
      "source": [
        "vcf_filtered = pysam.VariantFile(map_file + '.fil.vcf')\n",
        "filtered = list(vcf_filtered.fetch())\n",
        "\n",
        "passing_count = len(filtered)\n",
        "failing_count = len(variants) - passing_count\n",
        "\n",
        "print('Passing mutations={}'.format(passing_count))\n",
        "print('Failing mutations={}'.format(failing_count))\n",
        "print('Ti/Tv after filtering={}'.format(get_titv_ratio(filtered)))"
      ],
      "execution_count": 0,
      "outputs": []
    },
    {
      "cell_type": "markdown",
      "metadata": {
        "id": "L2qWTOCtkhRL",
        "colab_type": "text"
      },
      "source": [
        "Annotate mutations"
      ]
    },
    {
      "cell_type": "code",
      "metadata": {
        "id": "ilXkM5BqSVrf",
        "colab_type": "code",
        "colab": {}
      },
      "source": [
        "!cd {root_dir}\n",
        "!{gatk} FuncotatorDataSourceDownloader --germline --extract-after-download\n",
        "!{gatk} Funcotator -O {map_file}.ann.vcf --ref-version hg38 -R {genome_file} -V {map_file}.fil.vcf --output-file-format VCF --data-sources-path {func_dir}"
      ],
      "execution_count": 0,
      "outputs": []
    },
    {
      "cell_type": "markdown",
      "metadata": {
        "id": "XHhR-CX5keBy",
        "colab_type": "text"
      },
      "source": [
        "Group and count mutations by ClinVar significance values\n"
      ]
    },
    {
      "cell_type": "code",
      "metadata": {
        "id": "Eu_PJP_uRo1x",
        "colab_type": "code",
        "colab": {}
      },
      "source": [
        "vcf_annotated = pysam.VariantFile(map_file + '.ann.vcf')\n",
        "annotated = list(vcf_annotated.fetch())\n",
        "description = vcf_annotated.header.info['FUNCOTATION'].description\n",
        "functotations = description[73:].split('|')\n",
        "\n",
        "clinvar = {}\n",
        "\n",
        "for v in annotated:\n",
        "    try:\n",
        "        ann = {x:y for x, y in zip(functotations, v.info['FUNCOTATION'][0][1:-1].split('|'))}['ClinVar_VCF_CLNSIG']\n",
        "        if ann in clinvar:\n",
        "            clinvar[ann] += 1\n",
        "        elif len(ann) > 0:\n",
        "            clinvar[ann] = 1\n",
        "    except UnicodeDecodeError:\n",
        "        pass\n",
        "\n",
        "for k, v in clinvar.items():\n",
        "    print('{}={}'.format(k.replace('_%2C_', ''), v))"
      ],
      "execution_count": 0,
      "outputs": []
    },
    {
      "cell_type": "markdown",
      "metadata": {
        "id": "nbw6OryWlBtj",
        "colab_type": "text"
      },
      "source": [
        "Extract all sequences which are not mapped to hg38 assembly"
      ]
    },
    {
      "cell_type": "code",
      "metadata": {
        "id": "KpaooafrOIvo",
        "colab_type": "code",
        "colab": {}
      },
      "source": [
        "!samtools view -b -f 4 {map_file}.sorted.bam > {unmap_file}"
      ],
      "execution_count": 0,
      "outputs": []
    },
    {
      "cell_type": "markdown",
      "metadata": {
        "id": "y8RWbgGmlNNn",
        "colab_type": "text"
      },
      "source": [
        "Assemble unmapped sequences (potential bacteria or virus DNA)"
      ]
    },
    {
      "cell_type": "code",
      "metadata": {
        "id": "kiYiI4NYoPWa",
        "colab_type": "code",
        "colab": {}
      },
      "source": [
        "!abyss-pe j=2 k=64 name={unmap_file}.bac in={unmap_file}"
      ],
      "execution_count": 0,
      "outputs": []
    },
    {
      "cell_type": "markdown",
      "metadata": {
        "id": "ScZOKiPHk93U",
        "colab_type": "text"
      },
      "source": [
        "Extract longest unmapped sequence"
      ]
    },
    {
      "cell_type": "code",
      "metadata": {
        "id": "gVYmYg-m4kbJ",
        "colab_type": "code",
        "colab": {}
      },
      "source": [
        "fa_bacter = pysam.FastaFile(unmap_file + '.bac-1.fa')\n",
        "refs = zip(fa_bacter.lengths, fa_bacter.references)\n",
        "pos = sorted(refs, reverse=True)[0][1]\n",
        "\n",
        "print(fa_bacter.fetch(pos))"
      ],
      "execution_count": 0,
      "outputs": []
    }
  ]
}