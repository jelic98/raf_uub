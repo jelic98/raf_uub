{
  "nbformat": 4,
  "nbformat_minor": 0,
  "metadata": {
    "colab": {
      "name": "p1.ipynb",
      "provenance": [],
      "collapsed_sections": [],
      "machine_shape": "hm"
    },
    "kernelspec": {
      "name": "python3",
      "display_name": "Python 3"
    }
  },
  "cells": [
    {
      "cell_type": "markdown",
      "metadata": {
        "id": "rrLOqCd5Al2m"
      },
      "source": [
        "# Projekat 1 - 40 bodova\n",
        "\n",
        "U VCF fajlu su dati rezultati studije u kojoj su prikupljani podaci o mutacijama u određenoj populaciji (tabela sa imenom eksperimenta koji je dodeljen svakom studentu je data u fajlu Lista zadataka 2020). Osobe zahvaćene nekom bolešću su označene kao *case_x*, a zdrave osobe sa *control_x*.\n",
        "\n",
        "Kao rezultat projekta se potrebno je predati:  \n",
        "1. Kod kojim su generisani rezultati (ipynb ili python skripta)\n",
        "2. Kraći izveštaj sa tekstualnim odgovorima na pitanja i grafikonima\n",
        "\n",
        "Projekat je moguće raditi pojedinačno ili u paru. **Ukoliko se projekat radi u paru, svaki student predaje i brani projekat posebno, uz napomenu da je projekat urađen u paru; pri tome svaki student treba da obradi podatke iz eksperimenta koji mu dodeljen, a rad u paru se odnosi na programski kod i šablon za tekstualni izveštaj.**\n",
        "\n",
        "Pitanja:\n",
        "\n",
        "1. [3 boda] Koliko je subjekata ukupno učestvovalo u studiji? Koliko njih su oboleli, a koliko zdravi?\n",
        " \n",
        "2. [5 bodova] Koliko je ukupno mutacija posmatrano u populaciji. Dati tabelu sa brojem mutacija po hromozomu.\n",
        "   \n",
        "3. [8 bodova] Nacrtati histograme:  \n",
        "  3a. [2 boda] Frekvencije ređih alela (minor allele frequency, MAF) za svaku mutaciju u studiji  \n",
        "  3b. [2 boda] Procenat homozigotnih referentnih uzoraka za svaku mutacija u studiji  \n",
        "  3c. [2 boda] Procenat homozigotnih alternativnih uzoraka za svaku mutacija u studiji  \n",
        "  3d. [2 boda] Procenat heterozigotnih uzoraka za svaku mutacija u studiji     \n",
        "      \n",
        "4. [17 bodova] Identifikovati mutacije koje su statistički značajno asocirane sa datom bolešću (p manje od 0.05, upotrebom hi kvadrat testa).  \n",
        "  4a. [5 bodova] Primeniti hi kvadrat test na sve mutacije u studiji\n",
        "  4b. [3 bodova] Da li je potrebno izvršiti korekciju za višestruko testiranje? Ukoliko jeste, objasniti kako, i primeniti je.  \n",
        "  4c. [4 bodova] Nacrtati Menhetn grafikon. Voditi računa da dužina duž X ose alocirana svakom hromozomu bude proporcionalna dužini hromozoma.  \n",
        "  4d. [5 bodova] Za svaku mutaciju koja je statistički značajno asocirana sa datom bolešću odrediti da li odstupa od Hardi-Vajnberg ekvilibrijuma (upotrebom hi kvadrat testa).\n",
        "\n",
        "5. [7 bodova] Na osnovu mutacije koja pokazuje najjaču asocijaciju sa bolešću odrediti region na referentnom genomu gde se verovatno nalazi gen koji uzrokuje bolest.\n",
        "  5a. [4 boda] Identifikovati jedan ili više mogućih gena upotrebom [UCSC Genome browsera](https://genome.ucsc.edu/cgi-bin/hgGateway?redirect=manual&source=genome.ucsc.edu). Studija je rađena prema GRCH37 referentnom genomu.\n",
        "  5b. [3 boda] Izvući podatke o bolestima vezanim za identifikovane gene sa [OMIM sajta](https://omim.org) (nije potrebno prevoditi na srpski jezik)."
      ]
    },
    {
      "cell_type": "markdown",
      "metadata": {
        "id": "jxkD-gVqa_7F"
      },
      "source": [
        "Mount Google Drive to access VCF\n",
        "\n"
      ]
    },
    {
      "cell_type": "code",
      "metadata": {
        "id": "VDOqCkKiDBkK"
      },
      "source": [
        "from google.colab import drive\n",
        "drive.mount('/content/drive')"
      ],
      "execution_count": null,
      "outputs": []
    },
    {
      "cell_type": "markdown",
      "metadata": {
        "id": "79TanuVmrKJD"
      },
      "source": [
        "Define file and directory aliases"
      ]
    },
    {
      "cell_type": "code",
      "metadata": {
        "id": "qoiyE3eVrJpQ"
      },
      "source": [
        "root_dir = '/content/'\n",
        "home_dir = root_dir + 'drive/MyDrive/Colab Notebooks/UUB/'\n",
        "data_dir = home_dir + 'data/'\n",
        "\n",
        "%cd {home_dir}"
      ],
      "execution_count": null,
      "outputs": []
    },
    {
      "cell_type": "markdown",
      "metadata": {
        "id": "EKJ7KhA_bJT8"
      },
      "source": [
        "Unzip VCF archive if needed"
      ]
    },
    {
      "cell_type": "code",
      "metadata": {
        "id": "xlOtijMXEQnm"
      },
      "source": [
        "!gunzip '{data_dir}experiment_11.vcf.gz'"
      ],
      "execution_count": null,
      "outputs": []
    },
    {
      "cell_type": "markdown",
      "metadata": {
        "id": "vuuzlklYbMuu"
      },
      "source": [
        "Install Pysam library to parse VCF"
      ]
    },
    {
      "cell_type": "code",
      "metadata": {
        "id": "po16wM5ZKb_q"
      },
      "source": [
        "!pip install pysam"
      ],
      "execution_count": null,
      "outputs": []
    },
    {
      "cell_type": "markdown",
      "metadata": {
        "id": "_JxG9cDzbMH1"
      },
      "source": [
        "Import required libraries"
      ]
    },
    {
      "cell_type": "code",
      "metadata": {
        "id": "oKkaHLNqh0Bs"
      },
      "source": [
        "import math\n",
        "import pysam\n",
        "import warnings\n",
        "import numpy as np\n",
        "import matplotlib.pyplot as plt\n",
        "from scipy.stats import chisquare\n",
        "from itertools import groupby\n",
        "from collections import Counter\n",
        "\n",
        "warnings.simplefilter(\"error\", RuntimeWarning)"
      ],
      "execution_count": 5,
      "outputs": []
    },
    {
      "cell_type": "markdown",
      "metadata": {
        "id": "zCJWDwvBbUVc"
      },
      "source": [
        "Open VCF"
      ]
    },
    {
      "cell_type": "code",
      "metadata": {
        "id": "hmbji2dDEvmV"
      },
      "source": [
        "vcf = pysam.VariantFile(data_dir + 'experiment_11.vcf')"
      ],
      "execution_count": 8,
      "outputs": []
    },
    {
      "cell_type": "markdown",
      "metadata": {
        "id": "c3L6pJTubZn-"
      },
      "source": [
        "Count samples"
      ]
    },
    {
      "cell_type": "code",
      "metadata": {
        "id": "On2K4E8gE2wO"
      },
      "source": [
        "samples = vcf.header.samples\n",
        "cases = {s for s in vcf.header.samples if s.startswith('case')}\n",
        "controls = {s for s in vcf.header.samples if s.startswith('control')}\n",
        "\n",
        "len_samples, len_cases, len_controls = len(samples), len(cases), len(controls)"
      ],
      "execution_count": 9,
      "outputs": []
    },
    {
      "cell_type": "code",
      "metadata": {
        "id": "tKz2h3zPH96j",
        "colab": {
          "base_uri": "https://localhost:8080/"
        },
        "outputId": "f027f5f7-45be-4d68-cee9-047cc4a20c31"
      },
      "source": [
        "print('Total={} Case={} Control={}'.format(len_samples, len_cases, len_controls))"
      ],
      "execution_count": 10,
      "outputs": [
        {
          "output_type": "stream",
          "text": [
            "Total=200 Case=100 Control=100\n"
          ],
          "name": "stdout"
        }
      ]
    },
    {
      "cell_type": "markdown",
      "metadata": {
        "id": "1RHS92NfbXKv"
      },
      "source": [
        "Fetch all mutations"
      ]
    },
    {
      "cell_type": "code",
      "metadata": {
        "id": "fVrUhg0i341N"
      },
      "source": [
        "variants = list(vcf.fetch())"
      ],
      "execution_count": 11,
      "outputs": []
    },
    {
      "cell_type": "markdown",
      "metadata": {
        "id": "aQYd8c614vGk"
      },
      "source": [
        "Count mutations and show total count per chromosome table"
      ]
    },
    {
      "cell_type": "code",
      "metadata": {
        "id": "plw56YFXNsHa",
        "colab": {
          "base_uri": "https://localhost:8080/",
          "height": 319
        },
        "outputId": "ec4bc200-6de9-4e41-f00f-0b2e52d3fd23"
      },
      "source": [
        "muts_per_chrom = Counter([v.chrom for v in variants])\n",
        "len_variants = sum(muts_per_chrom.values())\n",
        "\n",
        "freq_data = [[k, v] for k, v in muts_per_chrom.items()]\n",
        "freq_data.append(['Total mutations', len_variants])\n",
        "\n",
        "freq_labels = ['Chromosome', 'Mutations']\n",
        "freq_table = plt.table(cellText=freq_data, colLabels=freq_labels, loc='center')\n",
        "\n",
        "plt.axis('off')\n",
        "plt.show()"
      ],
      "execution_count": 12,
      "outputs": [
        {
          "output_type": "display_data",
          "data": {
            "image/png": "[encoded data removed]",
            "text/plain": [
              "<Figure size 432x288 with 1 Axes>"
            ]
          },
          "metadata": {
            "tags": [],
            "needs_background": "light"
          }
        }
      ]
    },
    {
      "cell_type": "markdown",
      "metadata": {
        "id": "O5zxO3t1bsAB"
      },
      "source": [
        "Extract Minor Allele Frequency (MFA) and sampled genotypes per mutation"
      ]
    },
    {
      "cell_type": "code",
      "metadata": {
        "id": "xW_CPtHjXu2U"
      },
      "source": [
        "def get_genotypes():\n",
        "    maf_list, ref_list, alt_list, het_list = [], [], [], []\n",
        "\n",
        "    for v in variants:\n",
        "        counts = Counter([sum(v.samples[s]['GT']) for s in samples])\n",
        "        refs, alts, hets = counts[0], counts[2], counts[1]\n",
        "\n",
        "        maf_list.append((2 * min(refs, alts) + hets) / (2 * len_samples))\n",
        "        ref_list.append(refs / len_samples)\n",
        "        alt_list.append(alts / len_samples)\n",
        "        het_list.append(hets / len_samples)\n",
        "\n",
        "    return maf_list, ref_list, alt_list, het_list"
      ],
      "execution_count": 13,
      "outputs": []
    },
    {
      "cell_type": "code",
      "metadata": {
        "id": "uaHf7Jv_aCfc",
        "colab": {
          "base_uri": "https://localhost:8080/"
        },
        "outputId": "68a757c5-7a46-4744-dccd-4fed603be227"
      },
      "source": [
        "%%time\n",
        "maf, ref, alt, het = get_genotypes()"
      ],
      "execution_count": 14,
      "outputs": [
        {
          "output_type": "stream",
          "text": [
            "CPU times: user 4min 44s, sys: 345 ms, total: 4min 44s\n",
            "Wall time: 4min 44s\n"
          ],
          "name": "stdout"
        }
      ]
    },
    {
      "cell_type": "markdown",
      "metadata": {
        "id": "vRAFbDWz6jb7"
      },
      "source": [
        "Show histograms"
      ]
    },
    {
      "cell_type": "code",
      "metadata": {
        "id": "EpDLh-mnwGic"
      },
      "source": [
        "def show_hist(data, label, index):\n",
        "    plt.subplot(1, 4, index)\n",
        "    plt.hist(data, bins=25, label=label)\n",
        "    plt.legend()"
      ],
      "execution_count": 15,
      "outputs": []
    },
    {
      "cell_type": "code",
      "metadata": {
        "id": "tBg01tmXYqFs",
        "colab": {
          "base_uri": "https://localhost:8080/",
          "height": 266
        },
        "outputId": "7f2aefd5-baf1-42a3-fb35-fb14e836849b"
      },
      "source": [
        "plt.figure(figsize=(16, 4))\n",
        "show_hist(maf, 'Minor Allele Frequency', 1)\n",
        "show_hist(ref, 'Homozygous Reference', 2)\n",
        "show_hist(alt, 'Homozygous Alternative', 3)\n",
        "show_hist(het, 'Heterozygous', 4)\n",
        "plt.show()"
      ],
      "execution_count": 16,
      "outputs": [
        {
          "output_type": "display_data",
          "data": {
            "image/png": "[encoded data removed]",
            "text/plain": [
              "<Figure size 1152x288 with 4 Axes>"
            ]
          },
          "metadata": {
            "tags": [],
            "needs_background": "light"
          }
        }
      ]
    },
    {
      "cell_type": "markdown",
      "metadata": {
        "id": "scu3jyXVcF19"
      },
      "source": [
        "Run Chi-Square test for each mutation"
      ]
    },
    {
      "cell_type": "code",
      "metadata": {
        "id": "iU_phFDD0-Jq"
      },
      "source": [
        "def run_chi2(v):\n",
        "    case_counts = Counter([sum(v.samples[s]['GT']) for s in cases])\n",
        "    case_refs = 2 * case_counts[0] + case_counts[1]\n",
        "    case_alts = 2 * case_counts[2] + case_counts[1]\n",
        "\n",
        "    control_counts = Counter([sum(v.samples[s]['GT']) for s in controls])\n",
        "    control_refs = 2 * control_counts[0] + control_counts[1]\n",
        "    control_alts = 2 * control_counts[2] + control_counts[1]\n",
        "\n",
        "    total = case_refs + case_alts + control_refs + control_alts\n",
        "\n",
        "    try:\n",
        "        observed = [case_refs, case_alts, control_refs, control_alts]\n",
        "        expected = [(case_refs + case_alts) * (case_refs + control_refs) / total,\n",
        "                    (case_refs + case_alts) * (case_alts + control_alts) / total,\n",
        "                    (control_refs + control_alts) * (case_refs + control_refs) / total,\n",
        "                    (control_refs + control_alts) * (case_alts + control_alts) / total]\n",
        "        return chisquare(observed, expected, ddof=2).pvalue\n",
        "    except Warning:\n",
        "        return None"
      ],
      "execution_count": 17,
      "outputs": []
    },
    {
      "cell_type": "code",
      "metadata": {
        "id": "xbI3tHq-3tnp",
        "colab": {
          "base_uri": "https://localhost:8080/"
        },
        "outputId": "2935e553-e2f1-4778-c8fe-a598abecddc6"
      },
      "source": [
        "%%time\n",
        "chi2_raw = [(v.chrom, v.pos, run_chi2(v)) for v in variants]\n",
        "chi2 = [x for x in chi2_raw if x[2] is not None]\n",
        "results = {k: list(v) for k, v in groupby(chi2, key=lambda x: x[0])}"
      ],
      "execution_count": 18,
      "outputs": [
        {
          "output_type": "stream",
          "text": [
            "CPU times: user 7min 12s, sys: 962 ms, total: 7min 13s\n",
            "Wall time: 7min 13s\n"
          ],
          "name": "stdout"
        }
      ]
    },
    {
      "cell_type": "markdown",
      "metadata": {
        "id": "fenLCsSy7Qo4"
      },
      "source": [
        "Calculate chromosome lengths"
      ]
    },
    {
      "cell_type": "code",
      "metadata": {
        "id": "ADmmVTf0bO9p"
      },
      "source": [
        "def chrom_lengths():\n",
        "    chrom_groups = groupby(variants, key=lambda v: v.chrom)\n",
        "    return [max([v.pos for v in g]) for _, g in chrom_groups]"
      ],
      "execution_count": 19,
      "outputs": []
    },
    {
      "cell_type": "markdown",
      "metadata": {
        "id": "cRbGP4aLcZV6"
      },
      "source": [
        "Show Manhattan plot"
      ]
    },
    {
      "cell_type": "code",
      "metadata": {
        "id": "RQHLyNOzvWHb"
      },
      "source": [
        "def show_manhattan(bonferroni = False):\n",
        "    lengths = chrom_lengths()\n",
        "    widths = [math.ceil(100 * x / sum(lengths)) for x in lengths]\n",
        "\n",
        "    plt.figure(figsize=(16, 4))\n",
        "\n",
        "    for i, chrom in enumerate(results):\n",
        "        pos = [x[1] for x in results[chrom]]\n",
        "        p = [-np.log10(x[2]) for x in results[chrom]]\n",
        "\n",
        "        plt.subplot2grid((1, sum(widths)), (0, sum(widths[:i])), colspan=widths[i])\n",
        "        plt.scatter(pos, p)\n",
        "        plt.ylim(0, 15)\n",
        "        plt.axhline(-np.log10(0.01 / len_variants if bonferroni else 0.01), c='r')\n",
        "\n",
        "    plt.show()"
      ],
      "execution_count": 20,
      "outputs": []
    },
    {
      "cell_type": "code",
      "metadata": {
        "id": "-ANMbqp6Czgk",
        "colab": {
          "base_uri": "https://localhost:8080/",
          "height": 539
        },
        "outputId": "4270d6ed-7d58-4757-9ddd-8e5bdfaca0e1"
      },
      "source": [
        "show_manhattan()\n",
        "show_manhattan(True)"
      ],
      "execution_count": 21,
      "outputs": [
        {
          "output_type": "display_data",
          "data": {
            "image/png": "[encoded data removed]",
            "text/plain": [
              "<Figure size 1152x288 with 22 Axes>"
            ]
          },
          "metadata": {
            "tags": [],
            "needs_background": "light"
          }
        },
        {
          "output_type": "display_data",
          "data": {
            "image/png": "[encoded data removed]",
            "text/plain": [
              "<Figure size 1152x288 with 22 Axes>"
            ]
          },
          "metadata": {
            "tags": [],
            "needs_background": "light"
          }
        }
      ]
    },
    {
      "cell_type": "markdown",
      "metadata": {
        "id": "w7oLujhjvX7M"
      },
      "source": [
        "Extract regions with most significant mutations"
      ]
    },
    {
      "cell_type": "code",
      "metadata": {
        "id": "TyQ0u0GyvexE"
      },
      "source": [
        "def get_regions():\n",
        "    regions = []\n",
        "    \n",
        "    for i, chrom in enumerate(results):\n",
        "        pos = [x[1] for x in results[chrom]]\n",
        "        p = [-np.log10(x[2]) for x in results[chrom]]\n",
        "\n",
        "        signif = [x for x in p if x > -math.log10(0.01 / len_variants)]\n",
        "\n",
        "        pos_min, pos_max = float('inf'), float('-inf')\n",
        "    \n",
        "        for j, x in enumerate(p):\n",
        "            if x in signif:\n",
        "                pos_min, pos_max = min(pos_min, pos[j]), max(pos_max, pos[j])\n",
        "\n",
        "        if pos_min != float('inf') and pos_max != float('-inf'):\n",
        "            regions.append({'chr' : i + 1, 'min' : pos_min, 'max' : pos_max})\n",
        "\n",
        "    return regions"
      ],
      "execution_count": 22,
      "outputs": []
    },
    {
      "cell_type": "markdown",
      "metadata": {
        "id": "U2AO5y4E7w17"
      },
      "source": [
        "Check if mutation is inside region"
      ]
    },
    {
      "cell_type": "code",
      "metadata": {
        "id": "v7BqS54OUPtg"
      },
      "source": [
        "def isinside(v, r):\n",
        "    return int(v.chrom) == r['chr'] and r['min'] <= v.pos < r['max']"
      ],
      "execution_count": 23,
      "outputs": []
    },
    {
      "cell_type": "code",
      "metadata": {
        "id": "t1t5_vBO8UNb"
      },
      "source": [
        "signif = [v for r in get_regions() for v in variants if isinside(v, r)]"
      ],
      "execution_count": 24,
      "outputs": []
    },
    {
      "cell_type": "markdown",
      "metadata": {
        "id": "Ell9DqpR7pNu"
      },
      "source": [
        "Check Hardy-Weinberg equilibrium for each significant mutation"
      ]
    },
    {
      "cell_type": "code",
      "metadata": {
        "id": "SGGZNBUrKS1h"
      },
      "source": [
        "def check_hwe(v):\n",
        "    counts = Counter([sum(s['GT']) for s in v.samples.values() if None not in s['GT']])\n",
        "    total = sum(counts.values())\n",
        "    \n",
        "    p = (2 * counts[0] + counts[1]) / (2 * total)\n",
        "    q = (2 * counts[2] + counts[1]) / (2 * total)\n",
        "\n",
        "    try:\n",
        "        observed = [counts[0], counts[1], counts[2]]\n",
        "        expected = [p * p * total, 2 * p * q * total, q * q * total]\n",
        "        return chisquare(observed, expected, ddof=1).pvalue\n",
        "    except Warning:\n",
        "        return None"
      ],
      "execution_count": 25,
      "outputs": []
    },
    {
      "cell_type": "code",
      "metadata": {
        "id": "oJWuTQHjKc9L"
      },
      "source": [
        "hwe_raw = [check_hwe(v) for v in signif]\n",
        "hwe = [x > (0.01 / len_variants) for x in hwe_raw if x is not None]"
      ],
      "execution_count": 26,
      "outputs": []
    },
    {
      "cell_type": "markdown",
      "metadata": {
        "id": "nGF57cKl8hzW"
      },
      "source": [
        "Show HWE results for each significant mutation"
      ]
    },
    {
      "cell_type": "code",
      "metadata": {
        "id": "CIDyXQFiXMzG",
        "colab": {
          "base_uri": "https://localhost:8080/",
          "height": 307
        },
        "outputId": "c7169d78-9d66-4a9c-992c-1128590043c6"
      },
      "source": [
        "hwe_data = [[v.chrom, v.pos, h] for (v, h) in zip(signif, hwe)]\n",
        "hwe_labels = ['Mutation Chromosome', 'Mutation Position', 'HWE Applies']\n",
        "hwe_table = plt.table(cellText=hwe_data, colLabels=hwe_labels, loc='center')\n",
        "\n",
        "plt.axis('off')\n",
        "plt.show()"
      ],
      "execution_count": 27,
      "outputs": [
        {
          "output_type": "display_data",
          "data": {
            "image/png": "[encoded data removed]",
            "text/plain": [
              "<Figure size 432x288 with 1 Axes>"
            ]
          },
          "metadata": {
            "tags": [],
            "needs_background": "light"
          }
        }
      ]
    },
    {
      "cell_type": "markdown",
      "metadata": {
        "id": "RDZeQNmY81tQ"
      },
      "source": [
        "Show all significant regions\n",
        "\n",
        "Extract relevant genes in this regions using [UCSC Genome browser](https://genome.ucsc.edu/cgi-bin/hgGateway?redirect=manual&source=genome.ucsc.edu)"
      ]
    },
    {
      "cell_type": "code",
      "metadata": {
        "id": "PHiJuzuQDlZZ",
        "colab": {
          "base_uri": "https://localhost:8080/"
        },
        "outputId": "0cf7e519-fcd1-4e8c-da20-9fe4d2b9036d"
      },
      "source": [
        "for r in get_regions():\n",
        "    print('chr{}:{}-{}'.format(r['chr'], r['min'], r['max']))"
      ],
      "execution_count": 28,
      "outputs": [
        {
          "output_type": "stream",
          "text": [
            "chr2:138743166-138778828\n"
          ],
          "name": "stdout"
        }
      ]
    }
  ]
}