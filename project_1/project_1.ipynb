{
  "nbformat": 4,
  "nbformat_minor": 0,
  "metadata": {
    "colab": {
      "name": "UUB - Projekat 1.ipynb",
      "provenance": [],
      "collapsed_sections": [],
      "machine_shape": "hm"
    },
    "kernelspec": {
      "name": "python3",
      "display_name": "Python 3"
    }
  },
  "cells": [
    {
      "cell_type": "markdown",
      "metadata": {
        "id": "rrLOqCd5Al2m",
        "colab_type": "text"
      },
      "source": [
        "# Projekat 1 - 40 bodova\n",
        "\n",
        "U VCF fajlu su dati rezultati studije u kojoj su prikupljani podaci o mutacijama u određenoj populaciji (tabela sa imenom eksperimenta koji je dodeljen svakom studentu je data u fajlu Lista zadataka 2020). Osobe zahvaćene nekom bolešću su označene kao *case_x*, a zdrave osobe sa *control_x*.\n",
        "\n",
        "Kao rezultat projekta se potrebno je predati:  \n",
        "1. Kod kojim su generisani rezultati (ipynb ili python skripta)\n",
        "2. Kraći izveštaj sa tekstualnim odgovorima na pitanja i grafikonima\n",
        "\n",
        "Projekat je moguće raditi pojedinačno ili u paru. **Ukoliko se projekat radi u paru, svaki student predaje i brani projekat posebno, uz napomenu da je projekat urađen u paru; pri tome svaki student treba da obradi podatke iz eksperimenta koji mu dodeljen, a rad u paru se odnosi na programski kod i šablon za tekstualni izveštaj.**\n",
        "\n",
        "Pitanja:\n",
        "\n",
        "1. [3 boda] Koliko je subjekata ukupno učestvovalo u studiji? Koliko njih su oboleli, a koliko zdravi?\n",
        " \n",
        "2. [5 bodova] Koliko je ukupno mutacija posmatrano u populaciji. Dati tabelu sa brojem mutacija po hromozomu.\n",
        "   \n",
        "3. [8 bodova] Nacrtati histograme:  \n",
        "  3a. [2 boda] Frekvencije ređih alela (minor allele frequency, MAF) za svaku mutaciju u studiji  \n",
        "  3b. [2 boda] Procenat homozigotnih referentnih uzoraka za svaku mutacija u studiji  \n",
        "  3c. [2 boda] Procenat homozigotnih alternativnih uzoraka za svaku mutacija u studiji  \n",
        "  3d. [2 boda] Procenat heterozigotnih uzoraka za svaku mutacija u studiji     \n",
        "      \n",
        "4. [17 bodova] Identifikovati mutacije koje su statistički značajno asocirane sa datom bolešću (p manje od 0.05, upotrebom hi kvadrat testa).  \n",
        "  4a. [5 bodova] Primeniti hi kvadrat test na sve mutacije u studiji\n",
        "  4b. [3 bodova] Da li je potrebno izvršiti korekciju za višestruko testiranje? Ukoliko jeste, objasniti kako, i primeniti je.  \n",
        "  4c. [4 bodova] Nacrtati Menhetn grafikon. Voditi računa da dužina duž X ose alocirana svakom hromozomu bude proporcionalna dužini hromozoma.  \n",
        "  4d. [5 bodova] Za svaku mutaciju koja je statistički značajno asocirana sa datom bolešću odrediti da li odstupa od Hardi-Vajnberg ekvilibrijuma (upotrebom hi kvadrat testa).\n",
        "\n",
        "5. [7 bodova] Na osnovu mutacije koja pokazuje najjaču asocijaciju sa bolešću odrediti region na referentnom genomu gde se verovatno nalazi gen koji uzrokuje bolest.\n",
        "  5a. [4 boda] Identifikovati jedan ili više mogućih gena upotrebom [UCSC Genome browsera](https://genome.ucsc.edu/cgi-bin/hgGateway?redirect=manual&source=genome.ucsc.edu). Studija je rađena prema GRCH37 referentnom genomu.\n",
        "  5b. [3 boda] Izvući podatke o bolestima vezanim za identifikovane gene sa [OMIM sajta](https://omim.org) (nije potrebno prevoditi na srpski jezik)."
      ]
    },
    {
      "cell_type": "markdown",
      "metadata": {
        "id": "jxkD-gVqa_7F",
        "colab_type": "text"
      },
      "source": [
        "Mount Google Drive to access VCF\n",
        "\n"
      ]
    },
    {
      "cell_type": "code",
      "metadata": {
        "id": "VDOqCkKiDBkK",
        "colab_type": "code",
        "outputId": "7cfba7f9-5141-49b0-8d16-529f603f3190",
        "colab": {
          "base_uri": "https://localhost:8080/",
          "height": 34
        }
      },
      "source": [
        "from google.colab import drive\n",
        "drive.mount('/content/drive')"
      ],
      "execution_count": 0,
      "outputs": [
        {
          "output_type": "stream",
          "text": [
            "Drive already mounted at /content/drive; to attempt to forcibly remount, call drive.mount(\"/content/drive\", force_remount=True).\n"
          ],
          "name": "stdout"
        }
      ]
    },
    {
      "cell_type": "markdown",
      "metadata": {
        "id": "EKJ7KhA_bJT8",
        "colab_type": "text"
      },
      "source": [
        "Unzip VCF archive if needed"
      ]
    },
    {
      "cell_type": "code",
      "metadata": {
        "id": "xlOtijMXEQnm",
        "colab_type": "code",
        "colab": {}
      },
      "source": [
        "!gunzip /content/drive/My\\ Drive/Colab\\ Notebooks/experiment_11.vcf.gz"
      ],
      "execution_count": 0,
      "outputs": []
    },
    {
      "cell_type": "markdown",
      "metadata": {
        "id": "vuuzlklYbMuu",
        "colab_type": "text"
      },
      "source": [
        "Install Pysam library to parse VCF"
      ]
    },
    {
      "cell_type": "code",
      "metadata": {
        "id": "po16wM5ZKb_q",
        "colab_type": "code",
        "outputId": "35d76887-ea96-44c8-9f55-6bf7513a17e5",
        "colab": {
          "base_uri": "https://localhost:8080/",
          "height": 34
        }
      },
      "source": [
        "!pip install pysam"
      ],
      "execution_count": 0,
      "outputs": [
        {
          "output_type": "stream",
          "text": [
            "Requirement already satisfied: pysam in /usr/local/lib/python3.6/dist-packages (0.15.4)\n"
          ],
          "name": "stdout"
        }
      ]
    },
    {
      "cell_type": "markdown",
      "metadata": {
        "id": "_JxG9cDzbMH1",
        "colab_type": "text"
      },
      "source": [
        "Import required libraries"
      ]
    },
    {
      "cell_type": "code",
      "metadata": {
        "id": "oKkaHLNqh0Bs",
        "colab_type": "code",
        "colab": {}
      },
      "source": [
        "import math\n",
        "import pysam\n",
        "import numpy as np\n",
        "import matplotlib.pyplot as plt\n",
        "from scipy.stats import chisquare\n",
        "from itertools import groupby\n",
        "from collections import Counter"
      ],
      "execution_count": 0,
      "outputs": []
    },
    {
      "cell_type": "markdown",
      "metadata": {
        "id": "zCJWDwvBbUVc",
        "colab_type": "text"
      },
      "source": [
        "Open VCF"
      ]
    },
    {
      "cell_type": "code",
      "metadata": {
        "id": "hmbji2dDEvmV",
        "colab_type": "code",
        "colab": {}
      },
      "source": [
        "vcf = pysam.VariantFile('/content/drive/My Drive/Colab Notebooks/experiment_11.vcf')"
      ],
      "execution_count": 0,
      "outputs": []
    },
    {
      "cell_type": "markdown",
      "metadata": {
        "id": "c3L6pJTubZn-",
        "colab_type": "text"
      },
      "source": [
        "Count samples"
      ]
    },
    {
      "cell_type": "code",
      "metadata": {
        "id": "On2K4E8gE2wO",
        "colab_type": "code",
        "colab": {}
      },
      "source": [
        "cases = {sample for sample in vcf.header.samples if sample.startswith('case')}\n",
        "controls = {sample for sample in vcf.header.samples if sample.startswith('control')}"
      ],
      "execution_count": 0,
      "outputs": []
    },
    {
      "cell_type": "code",
      "metadata": {
        "id": "tKz2h3zPH96j",
        "colab_type": "code",
        "outputId": "31c25279-7c7e-4f8e-afaa-72c8540ff69e",
        "colab": {
          "base_uri": "https://localhost:8080/",
          "height": 34
        }
      },
      "source": [
        "print('Total: {}, Case: {}, Control: {}'.format(len(cases) + len(controls), len(cases), len(controls)))"
      ],
      "execution_count": 0,
      "outputs": [
        {
          "output_type": "stream",
          "text": [
            "Total: 200, Case: 100, Control: 100\n"
          ],
          "name": "stdout"
        }
      ]
    },
    {
      "cell_type": "markdown",
      "metadata": {
        "id": "1RHS92NfbXKv",
        "colab_type": "text"
      },
      "source": [
        "Fetch all mutations"
      ]
    },
    {
      "cell_type": "code",
      "metadata": {
        "id": "fVrUhg0i341N",
        "colab_type": "code",
        "colab": {}
      },
      "source": [
        "variants = list(vcf.fetch())"
      ],
      "execution_count": 0,
      "outputs": []
    },
    {
      "cell_type": "markdown",
      "metadata": {
        "id": "DmkmbjYobhng",
        "colab_type": "text"
      },
      "source": [
        "Count mutations"
      ]
    },
    {
      "cell_type": "code",
      "metadata": {
        "id": "ySlpUdJEGDnt",
        "colab_type": "code",
        "colab": {}
      },
      "source": [
        "def get_muts_per_chrom():\n",
        "    muts_per_chrom = {}\n",
        "\n",
        "    for variant in variants:\n",
        "        if variant.chrom in muts_per_chrom:\n",
        "            muts_per_chrom[variant.chrom] += 1\n",
        "        else:\n",
        "            muts_per_chrom[variant.chrom] = 1\n",
        "\n",
        "    return muts_per_chrom"
      ],
      "execution_count": 0,
      "outputs": []
    },
    {
      "cell_type": "markdown",
      "metadata": {
        "id": "aQYd8c614vGk",
        "colab_type": "text"
      },
      "source": [
        "Show mutations per chromosome table"
      ]
    },
    {
      "cell_type": "code",
      "metadata": {
        "id": "plw56YFXNsHa",
        "colab_type": "code",
        "outputId": "c6f4239c-a5a8-459c-c4fc-a3f4bff91132",
        "colab": {
          "base_uri": "https://localhost:8080/",
          "height": 319
        }
      },
      "source": [
        "mpc = get_muts_per_chrom()\n",
        "freq_data = [[k, v] for k, v in mpc.items()]\n",
        "\n",
        "muts_total = sum(mpc.values())\n",
        "freq_data.append(['Total mutations', muts_total])\n",
        "\n",
        "freq_table = plt.table(cellText=freq_data, colLabels=['Chromosome', 'Mutations'], loc='center')\n",
        "\n",
        "plt.axis('off')\n",
        "plt.show()"
      ],
      "execution_count": 0,
      "outputs": [
        {
          "output_type": "display_data",
          "data": {
            "image/png": "[encoded data removed]",
            "text/plain": [
              "<Figure size 432x288 with 1 Axes>"
            ]
          },
          "metadata": {
            "tags": []
          }
        }
      ]
    },
    {
      "cell_type": "markdown",
      "metadata": {
        "id": "O5zxO3t1bsAB",
        "colab_type": "text"
      },
      "source": [
        "Extract Minor Allele Frequency (MFA) and sampled genotypes per mutation"
      ]
    },
    {
      "cell_type": "code",
      "metadata": {
        "id": "Vy50xsKAUR2o",
        "colab_type": "code",
        "colab": {}
      },
      "source": [
        "def gts_per_mut(variant):\n",
        "    samples_total = len(variant.samples)\n",
        "\n",
        "    ref_sum = 0\n",
        "    alt_sum = 0\n",
        "    het_sum = 0\n",
        "\n",
        "    for sample in variant.samples:\n",
        "        data = variant.samples[sample]\n",
        "        gt = sum(data['GT'])\n",
        "\n",
        "        if gt == 0:\n",
        "            ref_sum += 1\n",
        "        elif gt == 2:\n",
        "            alt_sum += 1\n",
        "        else:\n",
        "            het_sum += 1\n",
        "\n",
        "    maf_pct = (2 * min(ref_sum, alt_sum) + het_sum) / (2 * samples_total)\n",
        "    ref_pct = ref_sum / samples_total\n",
        "    alt_pct = alt_sum / samples_total\n",
        "    het_pct = het_sum / samples_total\n",
        "\n",
        "    return maf_pct, ref_pct, alt_pct, het_pct"
      ],
      "execution_count": 0,
      "outputs": []
    },
    {
      "cell_type": "markdown",
      "metadata": {
        "id": "VynEKet95uwZ",
        "colab_type": "text"
      },
      "source": [
        "Group mutations by genotype"
      ]
    },
    {
      "cell_type": "code",
      "metadata": {
        "id": "xW_CPtHjXu2U",
        "colab_type": "code",
        "colab": {}
      },
      "source": [
        "def get_gts():\n",
        "    maf_list = []\n",
        "    ref_list = []\n",
        "    alt_list = []\n",
        "    het_list = []\n",
        "\n",
        "    for variant in variants:\n",
        "        maf, ref, alt, het = gts_per_mut(variant)\n",
        "\n",
        "        maf_list.append(maf)\n",
        "        ref_list.append(ref)\n",
        "        alt_list.append(alt)\n",
        "        het_list.append(het)\n",
        "\n",
        "    return maf_list, ref_list, alt_list, het_list"
      ],
      "execution_count": 0,
      "outputs": []
    },
    {
      "cell_type": "code",
      "metadata": {
        "id": "uaHf7Jv_aCfc",
        "colab_type": "code",
        "outputId": "26ee1f1e-634f-4ee9-e1c5-802a40e4e5b4",
        "colab": {
          "base_uri": "https://localhost:8080/",
          "height": 51
        }
      },
      "source": [
        "%%time\n",
        "maf, ref, alt, het = get_gts()"
      ],
      "execution_count": 0,
      "outputs": [
        {
          "output_type": "stream",
          "text": [
            "CPU times: user 4min 41s, sys: 237 ms, total: 4min 41s\n",
            "Wall time: 4min 41s\n"
          ],
          "name": "stdout"
        }
      ]
    },
    {
      "cell_type": "markdown",
      "metadata": {
        "id": "vRAFbDWz6jb7",
        "colab_type": "text"
      },
      "source": [
        "Show histograms"
      ]
    },
    {
      "cell_type": "code",
      "metadata": {
        "id": "EpDLh-mnwGic",
        "colab_type": "code",
        "colab": {}
      },
      "source": [
        "def show_hist(data, label, index_max, index_curr):\n",
        "    plt.subplot(1, index_max, index_curr)\n",
        "    plt.hist(data, bins=25, label=label)\n",
        "    plt.legend()"
      ],
      "execution_count": 0,
      "outputs": []
    },
    {
      "cell_type": "code",
      "metadata": {
        "id": "tBg01tmXYqFs",
        "colab_type": "code",
        "outputId": "ec06f090-6689-4fe0-83ea-f0c57bf86184",
        "colab": {
          "base_uri": "https://localhost:8080/",
          "height": 286
        }
      },
      "source": [
        "plt.figure(figsize=(16, 4))\n",
        "\n",
        "show_hist(maf, 'Minor Allele Frequency', 4, 1)\n",
        "show_hist(ref, 'Homozygous Reference', 4, 2)\n",
        "show_hist(alt, 'Homozygous Alternative', 4, 3)\n",
        "show_hist(het, 'Heterozygous', 4, 4)"
      ],
      "execution_count": 0,
      "outputs": [
        {
          "output_type": "display_data",
          "data": {
            "image/png": "[encoded data removed]",
            "text/plain": [
              "<Figure size 1152x288 with 4 Axes>"
            ]
          },
          "metadata": {
            "tags": []
          }
        }
      ]
    },
    {
      "cell_type": "markdown",
      "metadata": {
        "id": "scu3jyXVcF19",
        "colab_type": "text"
      },
      "source": [
        "Run Chi-Square test for each mutation"
      ]
    },
    {
      "cell_type": "code",
      "metadata": {
        "id": "iU_phFDD0-Jq",
        "colab_type": "code",
        "colab": {}
      },
      "source": [
        "def run_chi2(variant):\n",
        "    case_refs = sum(1 for sample in cases for gt in variant.samples[sample]['GT'] if gt == 0)\n",
        "    case_alts = sum(1 for sample in cases for gt in variant.samples[sample]['GT'] if gt == 1)\n",
        "    control_refs = sum(1 for sample in controls for gt in variant.samples[sample]['GT'] if gt == 0)\n",
        "    control_alts = sum(1 for sample in controls for gt in variant.samples[sample]['GT'] if gt == 1)\n",
        "\n",
        "    if (case_refs + case_alts == 0\n",
        "        or control_refs + control_alts == 0\n",
        "        or case_refs + control_refs == 0\n",
        "        or case_alts + control_alts == 0):\n",
        "        return None\n",
        "\n",
        "    total = case_refs + case_alts + control_refs + control_alts\n",
        "\n",
        "    observed = [case_refs, case_alts, control_refs, control_alts]\n",
        "    expected = [(case_refs + case_alts) * (case_refs + control_refs) / total,\n",
        "                (case_refs + case_alts) * (case_alts + control_alts) / total,\n",
        "                (control_refs + control_alts) * (case_refs + control_refs) / total,\n",
        "                (control_refs + control_alts) * (case_alts + control_alts) / total]\n",
        "\n",
        "    return chisquare(observed, expected, ddof=2).pvalue"
      ],
      "execution_count": 0,
      "outputs": []
    },
    {
      "cell_type": "code",
      "metadata": {
        "id": "xbI3tHq-3tnp",
        "colab_type": "code",
        "outputId": "c04e9e18-af96-4070-cc6a-ba92a55a75eb",
        "colab": {
          "base_uri": "https://localhost:8080/",
          "height": 51
        }
      },
      "source": [
        "%%time\n",
        "chi2_raw = [(variant.chrom, variant.pos, run_chi2(variant)) for variant in variants]\n",
        "chi2 = [x for x in chi2_raw if x[2] is not None]\n",
        "results = {k: list(v) for k, v in groupby(chi2, key=lambda x: x[0])}"
      ],
      "execution_count": 0,
      "outputs": [
        {
          "output_type": "stream",
          "text": [
            "CPU times: user 10min 55s, sys: 1.26 s, total: 10min 57s\n",
            "Wall time: 10min 57s\n"
          ],
          "name": "stdout"
        }
      ]
    },
    {
      "cell_type": "markdown",
      "metadata": {
        "id": "fenLCsSy7Qo4",
        "colab_type": "text"
      },
      "source": [
        "Calculate chromosome lengths"
      ]
    },
    {
      "cell_type": "code",
      "metadata": {
        "id": "ADmmVTf0bO9p",
        "colab_type": "code",
        "colab": {}
      },
      "source": [
        "def chrom_lengths():\n",
        "    lengths = []\n",
        "\n",
        "    chrom_groups = groupby(variants, key=lambda v: v.chrom)\n",
        "\n",
        "    for _, group in chrom_groups:\n",
        "        lengths.append(max([v.pos for v in group]))\n",
        "\n",
        "    return lengths"
      ],
      "execution_count": 0,
      "outputs": []
    },
    {
      "cell_type": "markdown",
      "metadata": {
        "id": "cRbGP4aLcZV6",
        "colab_type": "text"
      },
      "source": [
        "Show Manhattan plot"
      ]
    },
    {
      "cell_type": "code",
      "metadata": {
        "id": "RQHLyNOzvWHb",
        "colab_type": "code",
        "colab": {}
      },
      "source": [
        "def show_manhattan(bonferroni = False):\n",
        "    lengths = chrom_lengths()\n",
        "    widths = [math.ceil(100 * x / sum(lengths)) for x in lengths]\n",
        "\n",
        "    plt.figure(figsize=(16, 4))\n",
        "\n",
        "    sep = 0.01\n",
        "\n",
        "    if bonferroni:\n",
        "        sep /= muts_total\n",
        "\n",
        "    for i, chrom in enumerate(results):\n",
        "        pos = [x[1] for x in results[chrom]]\n",
        "        p = [-np.log10(x[2]) for x in results[chrom]]\n",
        "\n",
        "        plt.subplot2grid((1, sum(widths)), (0, sum(widths[:i])), colspan=widths[i])\n",
        "        plt.scatter(pos, p)\n",
        "        plt.ylim(0, 13)\n",
        "        plt.axhline(-np.log10(sep), c='r')"
      ],
      "execution_count": 0,
      "outputs": []
    },
    {
      "cell_type": "code",
      "metadata": {
        "id": "-ANMbqp6Czgk",
        "colab_type": "code",
        "outputId": "afdc84b6-0dfd-4da2-a9a2-40c8d83af8e5",
        "colab": {
          "base_uri": "https://localhost:8080/",
          "height": 539
        }
      },
      "source": [
        "show_manhattan()\n",
        "show_manhattan(True)"
      ],
      "execution_count": 0,
      "outputs": [
        {
          "output_type": "display_data",
          "data": {
            "image/png": "[encoded data removed]",
            "text/plain": [
              "<Figure size 1152x288 with 22 Axes>"
            ]
          },
          "metadata": {
            "tags": []
          }
        },
        {
          "output_type": "display_data",
          "data": {
            "image/png": "[encoded data removed]",
            "text/plain": [
              "<Figure size 1152x288 with 22 Axes>"
            ]
          },
          "metadata": {
            "tags": []
          }
        }
      ]
    },
    {
      "cell_type": "markdown",
      "metadata": {
        "id": "w7oLujhjvX7M",
        "colab_type": "text"
      },
      "source": [
        "Extract regions with most significant mutations"
      ]
    },
    {
      "cell_type": "code",
      "metadata": {
        "id": "TyQ0u0GyvexE",
        "colab_type": "code",
        "colab": {}
      },
      "source": [
        "def get_regions():\n",
        "    regions = []\n",
        "    \n",
        "    for i, chrom in enumerate(results):\n",
        "        pos = [x[1] for x in results[chrom]]\n",
        "        p = [-np.log10(x[2]) for x in results[chrom]]\n",
        "\n",
        "        upper = [x for x in p if x > -math.log10(0.01 / muts_total)]\n",
        "\n",
        "        pos_min = float('inf')\n",
        "        pos_max = float('-inf')\n",
        "    \n",
        "        for j, x in enumerate(p):\n",
        "            if x in upper:\n",
        "                pos_min = min(pos_min, pos[j])\n",
        "                pos_max = max(pos_max, pos[j])\n",
        "\n",
        "        if pos_min != float('inf') and pos_max != float('-inf'):\n",
        "            regions.append({'chrom' : i + 1, 'start' : pos_min, 'end' : pos_max})\n",
        "\n",
        "    return regions"
      ],
      "execution_count": 0,
      "outputs": []
    },
    {
      "cell_type": "markdown",
      "metadata": {
        "id": "U2AO5y4E7w17",
        "colab_type": "text"
      },
      "source": [
        "Check if mutation is inside region"
      ]
    },
    {
      "cell_type": "code",
      "metadata": {
        "id": "v7BqS54OUPtg",
        "colab_type": "code",
        "colab": {}
      },
      "source": [
        "def isinside(mut, region):\n",
        "    return int(mut.chrom) == region['chrom'] and mut.pos >= region['start'] and mut.pos <= region['end']"
      ],
      "execution_count": 0,
      "outputs": []
    },
    {
      "cell_type": "code",
      "metadata": {
        "id": "t1t5_vBO8UNb",
        "colab_type": "code",
        "colab": {}
      },
      "source": [
        "variants_ext = [v for r in get_regions() for v in variants if isinside(v, r)]"
      ],
      "execution_count": 0,
      "outputs": []
    },
    {
      "cell_type": "markdown",
      "metadata": {
        "id": "Ell9DqpR7pNu",
        "colab_type": "text"
      },
      "source": [
        "Check Hardy-Weinberg equilibrium for each significant mutation"
      ]
    },
    {
      "cell_type": "code",
      "metadata": {
        "id": "SGGZNBUrKS1h",
        "colab_type": "code",
        "colab": {}
      },
      "source": [
        "def check_hwe(variant):\n",
        "    counts = Counter([sum(sample['GT']) for sample in variant.samples.values() if None not in sample['GT']])\n",
        "    total = sum(counts.values())\n",
        "    \n",
        "    p = (2 * counts[0] + counts[1]) / (2 * total)\n",
        "    q = (2 * counts[2] + counts[1]) / (2 * total)\n",
        "    \n",
        "    if p == 0 or q == 0:\n",
        "        return None\n",
        "\n",
        "    observed = [counts[0], counts[1], counts[2]]\n",
        "    expected = [p * p * total, 2 * p * q * total, q * q * total]\n",
        "\n",
        "    return chisquare(observed, expected, ddof=1).pvalue"
      ],
      "execution_count": 0,
      "outputs": []
    },
    {
      "cell_type": "code",
      "metadata": {
        "id": "oJWuTQHjKc9L",
        "colab_type": "code",
        "outputId": "dea31568-6cfd-4014-932f-4d903837fe3e",
        "colab": {
          "base_uri": "https://localhost:8080/",
          "height": 51
        }
      },
      "source": [
        "%%time\n",
        "hwe_raw = [check_hwe(v) for v in variants_ext]\n",
        "hwe = [x > 1e-6 for x in hwe_raw if x is not None]"
      ],
      "execution_count": 0,
      "outputs": [
        {
          "output_type": "stream",
          "text": [
            "CPU times: user 14.4 ms, sys: 1.05 ms, total: 15.5 ms\n",
            "Wall time: 13.3 ms\n"
          ],
          "name": "stdout"
        }
      ]
    },
    {
      "cell_type": "markdown",
      "metadata": {
        "id": "nGF57cKl8hzW",
        "colab_type": "text"
      },
      "source": [
        "Show HWE results for each significant mutation"
      ]
    },
    {
      "cell_type": "code",
      "metadata": {
        "id": "CIDyXQFiXMzG",
        "colab_type": "code",
        "outputId": "497aec90-e5fb-43d4-8564-80163765c396",
        "colab": {
          "base_uri": "https://localhost:8080/",
          "height": 319
        }
      },
      "source": [
        "hwe_data = [[v.chrom, v.pos, h] for (v, h) in zip(variants_ext, hwe)]\n",
        "\n",
        "hwe_table = plt.table(cellText=hwe_data, colLabels=['Mutation Chromosome', 'Mutation Position', 'HWE Applies'], loc='center')\n",
        "\n",
        "plt.axis('off')\n",
        "plt.show()"
      ],
      "execution_count": 0,
      "outputs": [
        {
          "output_type": "display_data",
          "data": {
            "image/png": "[encoded data removed]",
            "text/plain": [
              "<Figure size 432x288 with 1 Axes>"
            ]
          },
          "metadata": {
            "tags": []
          }
        }
      ]
    },
    {
      "cell_type": "markdown",
      "metadata": {
        "id": "RDZeQNmY81tQ",
        "colab_type": "text"
      },
      "source": [
        "Show all significant regions\n",
        "\n",
        "Extract relevant genes in this regions using [UCSC Genome browser](https://genome.ucsc.edu/cgi-bin/hgGateway?redirect=manual&source=genome.ucsc.edu)"
      ]
    },
    {
      "cell_type": "code",
      "metadata": {
        "id": "PHiJuzuQDlZZ",
        "colab_type": "code",
        "outputId": "d225a260-1f6a-4854-c9a8-9d0d346ce812",
        "colab": {
          "base_uri": "https://localhost:8080/",
          "height": 34
        }
      },
      "source": [
        "for region in get_regions():\n",
        "    print('chr{}:{}-{}'.format(region['chrom'], region['start'], region['end']))"
      ],
      "execution_count": 0,
      "outputs": [
        {
          "output_type": "stream",
          "text": [
            "chr2:138743166-138778828\n"
          ],
          "name": "stdout"
        }
      ]
    }
  ]
}