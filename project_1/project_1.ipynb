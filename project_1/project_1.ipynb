{
  "nbformat": 4,
  "nbformat_minor": 0,
  "metadata": {
    "colab": {
      "name": "UUB - Projekat 1.ipynb",
      "provenance": [],
      "collapsed_sections": [],
      "machine_shape": "hm"
    },
    "kernelspec": {
      "name": "python3",
      "display_name": "Python 3"
    }
  },
  "cells": [
    {
      "cell_type": "markdown",
      "metadata": {
        "id": "rrLOqCd5Al2m",
        "colab_type": "text"
      },
      "source": [
        "# Projekat 1 - 40 bodova\n",
        "\n",
        "U VCF fajlu su dati rezultati studije u kojoj su prikupljani podaci o mutacijama u određenoj populaciji (tabela sa imenom eksperimenta koji je dodeljen svakom studentu je data u fajlu Lista zadataka 2020). Osobe zahvaćene nekom bolešću su označene kao *case_x*, a zdrave osobe sa *control_x*.\n",
        "\n",
        "Kao rezultat projekta se potrebno je predati:  \n",
        "1. Kod kojim su generisani rezultati (ipynb ili python skripta)\n",
        "2. Kraći izveštaj sa tekstualnim odgovorima na pitanja i grafikonima\n",
        "\n",
        "Projekat je moguće raditi pojedinačno ili u paru. **Ukoliko se projekat radi u paru, svaki student predaje i brani projekat posebno, uz napomenu da je projekat urađen u paru; pri tome svaki student treba da obradi podatke iz eksperimenta koji mu dodeljen, a rad u paru se odnosi na programski kod i šablon za tekstualni izveštaj.**\n",
        "\n",
        "Pitanja:\n",
        "\n",
        "1. [3 boda] Koliko je subjekata ukupno učestvovalo u studiji? Koliko njih su oboleli, a koliko zdravi?\n",
        " \n",
        "2. [5 bodova] Koliko je ukupno mutacija posmatrano u populaciji. Dati tabelu sa brojem mutacija po hromozomu.\n",
        "   \n",
        "3. [8 bodova] Nacrtati histograme:  \n",
        "  3a. [2 boda] Frekvencije ređih alela (minor allele frequency, MAF) za svaku mutaciju u studiji  \n",
        "  3b. [2 boda] Procenat homozigotnih referentnih uzoraka za svaku mutacija u studiji  \n",
        "  3c. [2 boda] Procenat homozigotnih alternativnih uzoraka za svaku mutacija u studiji  \n",
        "  3d. [2 boda] Procenat heterozigotnih uzoraka za svaku mutacija u studiji     \n",
        "      \n",
        "4. [17 bodova] Identifikovati mutacije koje su statistički značajno asocirane sa datom bolešću (p manje od 0.05, upotrebom hi kvadrat testa).  \n",
        "  4a. [5 bodova] Primeniti hi kvadrat test na sve mutacije u studiji\n",
        "  4b. [3 bodova] Da li je potrebno izvršiti korekciju za višestruko testiranje? Ukoliko jeste, objasniti kako, i primeniti je.  \n",
        "  4c. [4 bodova] Nacrtati Menhetn grafikon. Voditi računa da dužina duž X ose alocirana svakom hromozomu bude proporcionalna dužini hromozoma.  \n",
        "  4d. [5 bodova] Za svaku mutaciju koja je statistički značajno asocirana sa datom bolešću odrediti da li odstupa od Hardi-Vajnberg ekvilibrijuma (upotrebom hi kvadrat testa).\n",
        "\n",
        "5. [7 bodova] Na osnovu mutacije koja pokazuje najjaču asocijaciju sa bolešću odrediti region na referentnom genomu gde se verovatno nalazi gen koji uzrokuje bolest.\n",
        "  5a. [4 boda] Identifikovati jedan ili više mogućih gena upotrebom [UCSC Genome browsera](https://genome.ucsc.edu/cgi-bin/hgGateway?redirect=manual&source=genome.ucsc.edu). Studija je rađena prema GRCH37 referentnom genomu.\n",
        "  5b. [3 boda] Izvući podatke o bolestima vezanim za identifikovane gene sa [OMIM sajta](https://omim.org) (nije potrebno prevoditi na srpski jezik)."
      ]
    },
    {
      "cell_type": "markdown",
      "metadata": {
        "id": "jxkD-gVqa_7F",
        "colab_type": "text"
      },
      "source": [
        "Mount Google Drive to access VCF\n",
        "\n"
      ]
    },
    {
      "cell_type": "code",
      "metadata": {
        "id": "VDOqCkKiDBkK",
        "colab_type": "code",
        "outputId": "e2ae8508-85f8-4746-f1c4-61d0c1fb831f",
        "colab": {
          "base_uri": "https://localhost:8080/",
          "height": 122
        }
      },
      "source": [
        "from google.colab import drive\n",
        "drive.mount('/content/drive')"
      ],
      "execution_count": 1,
      "outputs": [
        {
          "output_type": "stream",
          "text": [
            "Go to this URL in a browser: https://accounts.google.com/o/oauth2/auth?client_id=947318989803-6bn6qk8qdgf4n4g3pfee6491hc0brc4i.apps.googleusercontent.com&redirect_uri=urn%3aietf%3awg%3aoauth%3a2.0%3aoob&response_type=code&scope=email%20https%3a%2f%2fwww.googleapis.com%2fauth%2fdocs.test%20https%3a%2f%2fwww.googleapis.com%2fauth%2fdrive%20https%3a%2f%2fwww.googleapis.com%2fauth%2fdrive.photos.readonly%20https%3a%2f%2fwww.googleapis.com%2fauth%2fpeopleapi.readonly\n",
            "\n",
            "Enter your authorization code:\n",
            "··········\n",
            "Mounted at /content/drive\n"
          ],
          "name": "stdout"
        }
      ]
    },
    {
      "cell_type": "markdown",
      "metadata": {
        "id": "EKJ7KhA_bJT8",
        "colab_type": "text"
      },
      "source": [
        "Unzip VCF archive if needed"
      ]
    },
    {
      "cell_type": "code",
      "metadata": {
        "id": "xlOtijMXEQnm",
        "colab_type": "code",
        "outputId": "ab41b1c6-ccc2-4d73-c7ab-3eb9789b1da6",
        "colab": {
          "base_uri": "https://localhost:8080/",
          "height": 34
        }
      },
      "source": [
        "!gunzip /content/drive/My\\ Drive/Colab\\ Notebooks/UUB/data/experiment_11.vcf.gz"
      ],
      "execution_count": 2,
      "outputs": [
        {
          "output_type": "stream",
          "text": [
            "gzip: /content/drive/My Drive/Colab Notebooks/UUB/data/experiment_11.vcf.gz: No such file or directory\n"
          ],
          "name": "stdout"
        }
      ]
    },
    {
      "cell_type": "markdown",
      "metadata": {
        "id": "vuuzlklYbMuu",
        "colab_type": "text"
      },
      "source": [
        "Install Pysam library to parse VCF"
      ]
    },
    {
      "cell_type": "code",
      "metadata": {
        "id": "po16wM5ZKb_q",
        "colab_type": "code",
        "outputId": "cf38afdd-556a-42e1-bf47-2e6c0f5120d5",
        "colab": {
          "base_uri": "https://localhost:8080/",
          "height": 122
        }
      },
      "source": [
        "!pip install pysam"
      ],
      "execution_count": 3,
      "outputs": [
        {
          "output_type": "stream",
          "text": [
            "Collecting pysam\n",
            "\u001b[?25l  Downloading https://files.pythonhosted.org/packages/2b/01/2be4def91aeb50ccb963879b8193ca667087308696f2fe6aa86c6da9db72/pysam-0.15.4-cp36-cp36m-manylinux2010_x86_64.whl (10.7MB)\n",
            "\u001b[K     |████████████████████████████████| 10.8MB 3.2MB/s \n",
            "\u001b[?25hInstalling collected packages: pysam\n",
            "Successfully installed pysam-0.15.4\n"
          ],
          "name": "stdout"
        }
      ]
    },
    {
      "cell_type": "markdown",
      "metadata": {
        "id": "_JxG9cDzbMH1",
        "colab_type": "text"
      },
      "source": [
        "Import required libraries"
      ]
    },
    {
      "cell_type": "code",
      "metadata": {
        "id": "oKkaHLNqh0Bs",
        "colab_type": "code",
        "colab": {}
      },
      "source": [
        "import math\n",
        "import pysam\n",
        "import warnings\n",
        "import numpy as np\n",
        "import matplotlib.pyplot as plt\n",
        "from scipy.stats import chisquare\n",
        "from itertools import groupby\n",
        "from collections import Counter\n",
        "\n",
        "warnings.simplefilter(\"error\", RuntimeWarning)"
      ],
      "execution_count": 0,
      "outputs": []
    },
    {
      "cell_type": "markdown",
      "metadata": {
        "id": "zCJWDwvBbUVc",
        "colab_type": "text"
      },
      "source": [
        "Open VCF"
      ]
    },
    {
      "cell_type": "code",
      "metadata": {
        "id": "hmbji2dDEvmV",
        "colab_type": "code",
        "colab": {}
      },
      "source": [
        "vcf = pysam.VariantFile('/content/drive/My Drive/Colab Notebooks/UUB/data/experiment_11.vcf')"
      ],
      "execution_count": 0,
      "outputs": []
    },
    {
      "cell_type": "markdown",
      "metadata": {
        "id": "c3L6pJTubZn-",
        "colab_type": "text"
      },
      "source": [
        "Count samples"
      ]
    },
    {
      "cell_type": "code",
      "metadata": {
        "id": "On2K4E8gE2wO",
        "colab_type": "code",
        "colab": {}
      },
      "source": [
        "samples = vcf.header.samples\n",
        "cases = {s for s in vcf.header.samples if s.startswith('case')}\n",
        "controls = {s for s in vcf.header.samples if s.startswith('control')}\n",
        "\n",
        "len_samples, len_cases, len_controls = len(samples), len(cases), len(controls)"
      ],
      "execution_count": 0,
      "outputs": []
    },
    {
      "cell_type": "code",
      "metadata": {
        "id": "tKz2h3zPH96j",
        "colab_type": "code",
        "outputId": "91fc70af-de49-42ed-cc25-7d4bdf8a5c9e",
        "colab": {
          "base_uri": "https://localhost:8080/",
          "height": 34
        }
      },
      "source": [
        "print('Total={} Case={} Control={}'.format(len_samples, len_cases, len_controls))"
      ],
      "execution_count": 7,
      "outputs": [
        {
          "output_type": "stream",
          "text": [
            "Total=200 Case=100 Control=100\n"
          ],
          "name": "stdout"
        }
      ]
    },
    {
      "cell_type": "markdown",
      "metadata": {
        "id": "1RHS92NfbXKv",
        "colab_type": "text"
      },
      "source": [
        "Fetch all mutations"
      ]
    },
    {
      "cell_type": "code",
      "metadata": {
        "id": "fVrUhg0i341N",
        "colab_type": "code",
        "colab": {}
      },
      "source": [
        "variants = list(vcf.fetch())"
      ],
      "execution_count": 0,
      "outputs": []
    },
    {
      "cell_type": "markdown",
      "metadata": {
        "id": "aQYd8c614vGk",
        "colab_type": "text"
      },
      "source": [
        "Count mutations and show total count per chromosome table"
      ]
    },
    {
      "cell_type": "code",
      "metadata": {
        "id": "plw56YFXNsHa",
        "colab_type": "code",
        "outputId": "f5091b61-e163-478e-9c80-fe325a748328",
        "colab": {
          "base_uri": "https://localhost:8080/",
          "height": 319
        }
      },
      "source": [
        "muts_per_chrom = Counter([v.chrom for v in variants])\n",
        "len_variants = sum(muts_per_chrom.values())\n",
        "\n",
        "freq_data = [[k, v] for k, v in muts_per_chrom.items()]\n",
        "freq_data.append(['Total mutations', len_variants])\n",
        "\n",
        "freq_labels = ['Chromosome', 'Mutations']\n",
        "freq_table = plt.table(cellText=freq_data, colLabels=freq_labels, loc='center')\n",
        "\n",
        "plt.axis('off')\n",
        "plt.show()"
      ],
      "execution_count": 9,
      "outputs": [
        {
          "output_type": "display_data",
          "data": {
            "image/png": "[encoded data removed]",
            "text/plain": [
              "<Figure size 432x288 with 1 Axes>"
            ]
          },
          "metadata": {
            "tags": []
          }
        }
      ]
    },
    {
      "cell_type": "markdown",
      "metadata": {
        "id": "O5zxO3t1bsAB",
        "colab_type": "text"
      },
      "source": [
        "Extract Minor Allele Frequency (MFA) and sampled genotypes per mutation"
      ]
    },
    {
      "cell_type": "code",
      "metadata": {
        "id": "xW_CPtHjXu2U",
        "colab_type": "code",
        "colab": {}
      },
      "source": [
        "def get_genotypes():\n",
        "    maf_list, ref_list, alt_list, het_list = [], [], [], []\n",
        "\n",
        "    for v in variants:\n",
        "        counts = Counter([sum(v.samples[s]['GT']) for s in samples])\n",
        "        refs, alts, hets = counts[0], counts[2], counts[1]\n",
        "\n",
        "        maf_list.append((2 * min(refs, alts) + hets) / (2 * len_samples))\n",
        "        ref_list.append(refs / len_samples)\n",
        "        alt_list.append(alts / len_samples)\n",
        "        het_list.append(hets / len_samples)\n",
        "\n",
        "    return maf_list, ref_list, alt_list, het_list"
      ],
      "execution_count": 0,
      "outputs": []
    },
    {
      "cell_type": "code",
      "metadata": {
        "id": "uaHf7Jv_aCfc",
        "colab_type": "code",
        "outputId": "79407c1a-af82-4598-ca4f-464e5b5101f9",
        "colab": {
          "base_uri": "https://localhost:8080/",
          "height": 51
        }
      },
      "source": [
        "%%time\n",
        "maf, ref, alt, het = get_genotypes()"
      ],
      "execution_count": 11,
      "outputs": [
        {
          "output_type": "stream",
          "text": [
            "CPU times: user 4min 38s, sys: 276 ms, total: 4min 38s\n",
            "Wall time: 4min 39s\n"
          ],
          "name": "stdout"
        }
      ]
    },
    {
      "cell_type": "markdown",
      "metadata": {
        "id": "vRAFbDWz6jb7",
        "colab_type": "text"
      },
      "source": [
        "Show histograms"
      ]
    },
    {
      "cell_type": "code",
      "metadata": {
        "id": "EpDLh-mnwGic",
        "colab_type": "code",
        "colab": {}
      },
      "source": [
        "def show_hist(data, label, index):\n",
        "    plt.subplot(1, 4, index)\n",
        "    plt.hist(data, bins=25, label=label)\n",
        "    plt.legend()"
      ],
      "execution_count": 0,
      "outputs": []
    },
    {
      "cell_type": "code",
      "metadata": {
        "id": "tBg01tmXYqFs",
        "colab_type": "code",
        "outputId": "418d9cce-2085-420f-e2f4-718720d395d9",
        "colab": {
          "base_uri": "https://localhost:8080/",
          "height": 266
        }
      },
      "source": [
        "plt.figure(figsize=(16, 4))\n",
        "show_hist(maf, 'Minor Allele Frequency', 1)\n",
        "show_hist(ref, 'Homozygous Reference', 2)\n",
        "show_hist(alt, 'Homozygous Alternative', 3)\n",
        "show_hist(het, 'Heterozygous', 4)\n",
        "plt.show()"
      ],
      "execution_count": 13,
      "outputs": [
        {
          "output_type": "display_data",
          "data": {
            "image/png": "[encoded data removed]",
            "text/plain": [
              "<Figure size 1152x288 with 4 Axes>"
            ]
          },
          "metadata": {
            "tags": []
          }
        }
      ]
    },
    {
      "cell_type": "markdown",
      "metadata": {
        "id": "scu3jyXVcF19",
        "colab_type": "text"
      },
      "source": [
        "Run Chi-Square test for each mutation"
      ]
    },
    {
      "cell_type": "code",
      "metadata": {
        "id": "iU_phFDD0-Jq",
        "colab_type": "code",
        "colab": {}
      },
      "source": [
        "def run_chi2(v):\n",
        "    case_counts = Counter([sum(v.samples[s]['GT']) for s in cases])\n",
        "    case_refs = 2 * case_counts[0] + case_counts[1]\n",
        "    case_alts = 2 * case_counts[2] + case_counts[1]\n",
        "\n",
        "    control_counts = Counter([sum(v.samples[s]['GT']) for s in controls])\n",
        "    control_refs = 2 * control_counts[0] + control_counts[1]\n",
        "    control_alts = 2 * control_counts[2] + control_counts[1]\n",
        "\n",
        "    total = case_refs + case_alts + control_refs + control_alts\n",
        "\n",
        "    try:\n",
        "        observed = [case_refs, case_alts, control_refs, control_alts]\n",
        "        expected = [(case_refs + case_alts) * (case_refs + control_refs) / total,\n",
        "                    (case_refs + case_alts) * (case_alts + control_alts) / total,\n",
        "                    (control_refs + control_alts) * (case_refs + control_refs) / total,\n",
        "                    (control_refs + control_alts) * (case_alts + control_alts) / total]\n",
        "        return chisquare(observed, expected, ddof=2).pvalue\n",
        "    except Warning:\n",
        "        return None"
      ],
      "execution_count": 0,
      "outputs": []
    },
    {
      "cell_type": "code",
      "metadata": {
        "id": "xbI3tHq-3tnp",
        "colab_type": "code",
        "outputId": "1b740e38-2a65-485d-cb37-e92299a4061e",
        "colab": {
          "base_uri": "https://localhost:8080/",
          "height": 51
        }
      },
      "source": [
        "%%time\n",
        "chi2_raw = [(v.chrom, v.pos, run_chi2(v)) for v in variants]\n",
        "chi2 = [x for x in chi2_raw if x[2] is not None]\n",
        "results = {k: list(v) for k, v in groupby(chi2, key=lambda x: x[0])}"
      ],
      "execution_count": 50,
      "outputs": [
        {
          "output_type": "stream",
          "text": [
            "CPU times: user 7min 16s, sys: 787 ms, total: 7min 17s\n",
            "Wall time: 7min 17s\n"
          ],
          "name": "stdout"
        }
      ]
    },
    {
      "cell_type": "markdown",
      "metadata": {
        "id": "fenLCsSy7Qo4",
        "colab_type": "text"
      },
      "source": [
        "Calculate chromosome lengths"
      ]
    },
    {
      "cell_type": "code",
      "metadata": {
        "id": "ADmmVTf0bO9p",
        "colab_type": "code",
        "colab": {}
      },
      "source": [
        "def chrom_lengths():\n",
        "    chrom_groups = groupby(variants, key=lambda v: v.chrom)\n",
        "    return [max([v.pos for v in g]) for _, g in chrom_groups]"
      ],
      "execution_count": 0,
      "outputs": []
    },
    {
      "cell_type": "markdown",
      "metadata": {
        "id": "cRbGP4aLcZV6",
        "colab_type": "text"
      },
      "source": [
        "Show Manhattan plot"
      ]
    },
    {
      "cell_type": "code",
      "metadata": {
        "id": "RQHLyNOzvWHb",
        "colab_type": "code",
        "colab": {}
      },
      "source": [
        "def show_manhattan(bonferroni = False):\n",
        "    lengths = chrom_lengths()\n",
        "    widths = [math.ceil(100 * x / sum(lengths)) for x in lengths]\n",
        "\n",
        "    plt.figure(figsize=(16, 4))\n",
        "\n",
        "    for i, chrom in enumerate(results):\n",
        "        pos = [x[1] for x in results[chrom]]\n",
        "        p = [-np.log10(x[2]) for x in results[chrom]]\n",
        "\n",
        "        plt.subplot2grid((1, sum(widths)), (0, sum(widths[:i])), colspan=widths[i])\n",
        "        plt.scatter(pos, p)\n",
        "        plt.ylim(0, 15)\n",
        "        plt.axhline(-np.log10(0.01 / len_variants if bonferroni else 0.01), c='r')\n",
        "\n",
        "    plt.show()"
      ],
      "execution_count": 0,
      "outputs": []
    },
    {
      "cell_type": "code",
      "metadata": {
        "id": "-ANMbqp6Czgk",
        "colab_type": "code",
        "outputId": "76df6ef1-ca90-450d-97f5-6bce2ebd8c97",
        "colab": {
          "base_uri": "https://localhost:8080/",
          "height": 539
        }
      },
      "source": [
        "show_manhattan()\n",
        "show_manhattan(True)"
      ],
      "execution_count": 57,
      "outputs": [
        {
          "output_type": "display_data",
          "data": {
            "image/png": "[encoded data removed]",
            "text/plain": [
              "<Figure size 1152x288 with 22 Axes>"
            ]
          },
          "metadata": {
            "tags": []
          }
        },
        {
          "output_type": "display_data",
          "data": {
            "image/png": "[encoded data removed]",
            "text/plain": [
              "<Figure size 1152x288 with 22 Axes>"
            ]
          },
          "metadata": {
            "tags": []
          }
        }
      ]
    },
    {
      "cell_type": "markdown",
      "metadata": {
        "id": "w7oLujhjvX7M",
        "colab_type": "text"
      },
      "source": [
        "Extract regions with most significant mutations"
      ]
    },
    {
      "cell_type": "code",
      "metadata": {
        "id": "TyQ0u0GyvexE",
        "colab_type": "code",
        "colab": {}
      },
      "source": [
        "def get_regions():\n",
        "    regions = []\n",
        "    \n",
        "    for i, chrom in enumerate(results):\n",
        "        pos = [x[1] for x in results[chrom]]\n",
        "        p = [-np.log10(x[2]) for x in results[chrom]]\n",
        "\n",
        "        signif = [x for x in p if x > -math.log10(0.01 / len_variants)]\n",
        "\n",
        "        pos_min, pos_max = float('inf'), float('-inf')\n",
        "    \n",
        "        for j, x in enumerate(p):\n",
        "            if x in signif:\n",
        "                pos_min, pos_max = min(pos_min, pos[j]), max(pos_max, pos[j])\n",
        "\n",
        "        if pos_min != float('inf') and pos_max != float('-inf'):\n",
        "            regions.append({'chr' : i + 1, 'min' : pos_min, 'max' : pos_max})\n",
        "\n",
        "    return regions"
      ],
      "execution_count": 0,
      "outputs": []
    },
    {
      "cell_type": "markdown",
      "metadata": {
        "id": "U2AO5y4E7w17",
        "colab_type": "text"
      },
      "source": [
        "Check if mutation is inside region"
      ]
    },
    {
      "cell_type": "code",
      "metadata": {
        "id": "v7BqS54OUPtg",
        "colab_type": "code",
        "colab": {}
      },
      "source": [
        "def isinside(v, r):\n",
        "    return int(v.chrom) == r['chr'] and r['min'] <= v.pos < r['max']"
      ],
      "execution_count": 0,
      "outputs": []
    },
    {
      "cell_type": "code",
      "metadata": {
        "id": "t1t5_vBO8UNb",
        "colab_type": "code",
        "colab": {}
      },
      "source": [
        "signif = [v for r in get_regions() for v in variants if isinside(v, r)]"
      ],
      "execution_count": 0,
      "outputs": []
    },
    {
      "cell_type": "markdown",
      "metadata": {
        "id": "Ell9DqpR7pNu",
        "colab_type": "text"
      },
      "source": [
        "Check Hardy-Weinberg equilibrium for each significant mutation"
      ]
    },
    {
      "cell_type": "code",
      "metadata": {
        "id": "SGGZNBUrKS1h",
        "colab_type": "code",
        "colab": {}
      },
      "source": [
        "def check_hwe(v):\n",
        "    counts = Counter([sum(s['GT']) for s in v.samples.values() if None not in s['GT']])\n",
        "    total = sum(counts.values())\n",
        "    \n",
        "    p = (2 * counts[0] + counts[1]) / (2 * total)\n",
        "    q = (2 * counts[2] + counts[1]) / (2 * total)\n",
        "\n",
        "    try:\n",
        "        observed = [counts[0], counts[1], counts[2]]\n",
        "        expected = [p * p * total, 2 * p * q * total, q * q * total]\n",
        "        return chisquare(observed, expected, ddof=1).pvalue\n",
        "    except Warning:\n",
        "        return None"
      ],
      "execution_count": 0,
      "outputs": []
    },
    {
      "cell_type": "code",
      "metadata": {
        "id": "oJWuTQHjKc9L",
        "colab_type": "code",
        "colab": {}
      },
      "source": [
        "hwe_raw = [check_hwe(v) for v in signif]\n",
        "hwe = [x > (0.01 / len_variants) for x in hwe_raw if x is not None]"
      ],
      "execution_count": 0,
      "outputs": []
    },
    {
      "cell_type": "markdown",
      "metadata": {
        "id": "nGF57cKl8hzW",
        "colab_type": "text"
      },
      "source": [
        "Show HWE results for each significant mutation"
      ]
    },
    {
      "cell_type": "code",
      "metadata": {
        "id": "CIDyXQFiXMzG",
        "colab_type": "code",
        "outputId": "770b0589-deef-407a-e61e-00b38a395cbf",
        "colab": {
          "base_uri": "https://localhost:8080/",
          "height": 307
        }
      },
      "source": [
        "hwe_data = [[v.chrom, v.pos, h] for (v, h) in zip(signif, hwe)]\n",
        "hwe_labels = ['Mutation Chromosome', 'Mutation Position', 'HWE Applies']\n",
        "hwe_table = plt.table(cellText=hwe_data, colLabels=hwe_labels, loc='center')\n",
        "\n",
        "plt.axis('off')\n",
        "plt.show()"
      ],
      "execution_count": 65,
      "outputs": [
        {
          "output_type": "display_data",
          "data": {
            "image/png": "[encoded data removed]",
            "text/plain": [
              "<Figure size 432x288 with 1 Axes>"
            ]
          },
          "metadata": {
            "tags": []
          }
        }
      ]
    },
    {
      "cell_type": "markdown",
      "metadata": {
        "id": "RDZeQNmY81tQ",
        "colab_type": "text"
      },
      "source": [
        "Show all significant regions\n",
        "\n",
        "Extract relevant genes in this regions using [UCSC Genome browser](https://genome.ucsc.edu/cgi-bin/hgGateway?redirect=manual&source=genome.ucsc.edu)"
      ]
    },
    {
      "cell_type": "code",
      "metadata": {
        "id": "PHiJuzuQDlZZ",
        "colab_type": "code",
        "outputId": "6ed1a7d1-0b3e-40db-f602-c25b1e7a4ddf",
        "colab": {
          "base_uri": "https://localhost:8080/",
          "height": 34
        }
      },
      "source": [
        "for r in get_regions():\n",
        "    print('chr{}:{}-{}'.format(r['chr'], r['min'], r['max']))"
      ],
      "execution_count": 66,
      "outputs": [
        {
          "output_type": "stream",
          "text": [
            "chr2:138743166-138778828\n"
          ],
          "name": "stdout"
        }
      ]
    }
  ]
}